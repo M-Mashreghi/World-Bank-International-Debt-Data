{
  "metadata": {
    "kernelspec": {
      "display_name": "Python 3",
      "language": "python",
      "name": "python3"
    },
    "language_info": {
      "name": "python",
      "version": "3.6.5",
      "mimetype": "text/x-python",
      "codemirror_mode": {
        "name": "ipython",
        "version": 3
      },
      "pygments_lexer": "ipython3",
      "nbconvert_exporter": "python",
      "file_extension": ".py"
    },
    "kaggle": {
      "accelerator": "none",
      "dataSources": [
        {
          "sourceId": 337527,
          "sourceType": "datasetVersion",
          "datasetId": 22949
        }
      ],
      "dockerImageVersionId": 3200,
      "isInternetEnabled": false,
      "language": "python",
      "sourceType": "notebook",
      "isGpuEnabled": false
    },
    "colab": {
      "name": "Deep dive into International debt data",
      "provenance": []
    }
  },
  "nbformat_minor": 0,
  "nbformat": 4,
  "cells": [
    {
      "source": [
        "# IMPORTANT: RUN THIS CELL IN ORDER TO IMPORT YOUR KAGGLE DATA SOURCES,\n",
        "# THEN FEEL FREE TO DELETE THIS CELL.\n",
        "# NOTE: THIS NOTEBOOK ENVIRONMENT DIFFERS FROM KAGGLE'S PYTHON\n",
        "# ENVIRONMENT SO THERE MAY BE MISSING LIBRARIES USED BY YOUR\n",
        "# NOTEBOOK.\n",
        "import kagglehub\n",
        "organizations_theworldbank_world_bank_intl_debt_path = kagglehub.dataset_download('organizations/theworldbank/world-bank-intl-debt')\n",
        "\n",
        "print('Data source import complete.')\n"
      ],
      "metadata": {
        "id": "EOKxanwUpZLb"
      },
      "cell_type": "code",
      "outputs": [],
      "execution_count": null
    },
    {
      "cell_type": "markdown",
      "source": [
        "# Introduction\n",
        "\n"
      ],
      "metadata": {
        "_uuid": "7f1cfd25beb9b57bda5a8ba17c28a6307bda7b28",
        "_cell_guid": "ff2f35e5-747d-40b5-87b5-c933c5d22bc8",
        "id": "YQjCoq1MpZLc"
      }
    },
    {
      "cell_type": "code",
      "source": [
        "\n",
        "import numpy as np # linear algebra\n",
        "import pandas as pd # data processing, CSV file I/O (e.g. pd.read_csv)\n",
        "\n",
        "import matplotlib.pyplot as plt\n",
        "import seaborn as sns\n",
        "\n",
        "import os\n",
        "print(os.listdir(\"../input/\"))\n"
      ],
      "metadata": {
        "_uuid": "8f2839f25d086af736a60e9eeb907d3b93b6e0e5",
        "_cell_guid": "b1076dfc-b9ad-4769-8c92-a6c4dae69d19",
        "trusted": true,
        "execution": {
          "iopub.status.busy": "2025-05-24T14:05:09.34794Z",
          "iopub.execute_input": "2025-05-24T14:05:09.348466Z",
          "iopub.status.idle": "2025-05-24T14:05:09.356635Z",
          "shell.execute_reply.started": "2025-05-24T14:05:09.348196Z",
          "shell.execute_reply": "2025-05-24T14:05:09.355401Z"
        },
        "id": "14_8VVoJpZLd",
        "outputId": "7bab50af-ea6b-479b-b07c-4cb5cc0361ae"
      },
      "outputs": [
        {
          "name": "stdout",
          "text": "[]\n",
          "output_type": "stream"
        }
      ],
      "execution_count": null
    },
    {
      "cell_type": "markdown",
      "source": [
        "This is a big query dataset so we use the bq_helper library for query searching. If you are unfamiliar with bigquery, Here is very good [tutorial](https://medium.com/google-cloud/getting-started-with-google-cloud-a-codelab-for-geohackweek-2017-848c25ed72fd) on Medium. If you don't feel like reading it, In layman terms, you can just think bigquery as big SQL queries."
      ],
      "metadata": {
        "_uuid": "e19bf772af43279997c2fc93d2b11919e8e20d75",
        "_cell_guid": "7f6c0cb0-2a04-45da-9c09-d9141c72ce05",
        "id": "NWnU0TmzpZLe"
      }
    },
    {
      "cell_type": "code",
      "source": [
        "import bq_helper\n",
        "from bq_helper import BigQueryHelper\n",
        "wbid = bq_helper.BigQueryHelper(active_project=\"bigquery-public-data\",\n",
        "                                   dataset_name=\"world_bank_intl_debt\")"
      ],
      "metadata": {
        "_uuid": "2409690e4e9b808e66711a4dd3994cf6bf972963",
        "_cell_guid": "4b15bd3b-8135-4628-9618-392cb63342b9",
        "trusted": true,
        "execution": {
          "iopub.status.busy": "2025-05-24T14:05:09.366503Z",
          "iopub.execute_input": "2025-05-24T14:05:09.366906Z",
          "iopub.status.idle": "2025-05-24T14:05:09.372718Z",
          "shell.execute_reply.started": "2025-05-24T14:05:09.366844Z",
          "shell.execute_reply": "2025-05-24T14:05:09.37175Z"
        },
        "id": "TUcaVC-CpZLe"
      },
      "outputs": [],
      "execution_count": null
    },
    {
      "cell_type": "code",
      "source": [
        "bq_assistant = BigQueryHelper(\"bigquery-public-data\", \"world_bank_intl_debt\")\n",
        "bq_assistant.list_tables()"
      ],
      "metadata": {
        "_uuid": "d629ff2d2480ee46fbb7e2d37f6b5fab8052498a",
        "_cell_guid": "79c7e3d0-c299-4dcb-8224-4455121ee9b0",
        "trusted": true,
        "execution": {
          "iopub.status.busy": "2025-05-24T14:05:09.373885Z",
          "iopub.execute_input": "2025-05-24T14:05:09.374239Z",
          "iopub.status.idle": "2025-05-24T14:05:10.070358Z",
          "shell.execute_reply.started": "2025-05-24T14:05:09.374193Z",
          "shell.execute_reply": "2025-05-24T14:05:10.069494Z"
        },
        "id": "y7zCPxAHpZLf",
        "outputId": "98854a77-dd1e-4073-c329-f12201db3118"
      },
      "outputs": [
        {
          "execution_count": 13,
          "output_type": "execute_result",
          "data": {
            "text/plain": "['country_series_definitions',\n 'country_summary',\n 'international_debt',\n 'series_summary',\n 'series_times']"
          },
          "metadata": {}
        }
      ],
      "execution_count": null
    },
    {
      "cell_type": "code",
      "source": [
        "bq_assistant.head(\"international_debt\", num_rows=5)"
      ],
      "metadata": {
        "_uuid": "1458afe690d5164e745bc2167b801e07f0c74887",
        "_cell_guid": "50629485-e2e5-4723-808b-406e5192c8f9",
        "trusted": true,
        "execution": {
          "iopub.status.busy": "2025-05-24T14:05:10.071968Z",
          "iopub.execute_input": "2025-05-24T14:05:10.072335Z",
          "iopub.status.idle": "2025-05-24T14:05:10.804717Z",
          "shell.execute_reply.started": "2025-05-24T14:05:10.072258Z",
          "shell.execute_reply": "2025-05-24T14:05:10.803865Z"
        },
        "id": "0w2q7WYypZLf",
        "outputId": "18afd0e0-f163-4536-fe6c-77a070580202"
      },
      "outputs": [
        {
          "execution_count": 14,
          "output_type": "execute_result",
          "data": {
            "text/plain": "  country_name country_code     indicator_name  indicator_code value  year\n0         Chad          TCD  GNI (current US$)  NY.GNP.MKTP.CD  None  None\n1         Chad          TCD  GNI (current US$)  NY.GNP.MKTP.CD  None  None\n2         Chad          TCD  GNI (current US$)  NY.GNP.MKTP.CD  None  None\n3         Chad          TCD  GNI (current US$)  NY.GNP.MKTP.CD  None  None\n4         Chad          TCD  GNI (current US$)  NY.GNP.MKTP.CD  None  None",
            "text/html": "<div>\n<style scoped>\n    .dataframe tbody tr th:only-of-type {\n        vertical-align: middle;\n    }\n\n    .dataframe tbody tr th {\n        vertical-align: top;\n    }\n\n    .dataframe thead th {\n        text-align: right;\n    }\n</style>\n<table border=\"1\" class=\"dataframe\">\n  <thead>\n    <tr style=\"text-align: right;\">\n      <th></th>\n      <th>country_name</th>\n      <th>country_code</th>\n      <th>indicator_name</th>\n      <th>indicator_code</th>\n      <th>value</th>\n      <th>year</th>\n    </tr>\n  </thead>\n  <tbody>\n    <tr>\n      <th>0</th>\n      <td>Chad</td>\n      <td>TCD</td>\n      <td>GNI (current US$)</td>\n      <td>NY.GNP.MKTP.CD</td>\n      <td>None</td>\n      <td>None</td>\n    </tr>\n    <tr>\n      <th>1</th>\n      <td>Chad</td>\n      <td>TCD</td>\n      <td>GNI (current US$)</td>\n      <td>NY.GNP.MKTP.CD</td>\n      <td>None</td>\n      <td>None</td>\n    </tr>\n    <tr>\n      <th>2</th>\n      <td>Chad</td>\n      <td>TCD</td>\n      <td>GNI (current US$)</td>\n      <td>NY.GNP.MKTP.CD</td>\n      <td>None</td>\n      <td>None</td>\n    </tr>\n    <tr>\n      <th>3</th>\n      <td>Chad</td>\n      <td>TCD</td>\n      <td>GNI (current US$)</td>\n      <td>NY.GNP.MKTP.CD</td>\n      <td>None</td>\n      <td>None</td>\n    </tr>\n    <tr>\n      <th>4</th>\n      <td>Chad</td>\n      <td>TCD</td>\n      <td>GNI (current US$)</td>\n      <td>NY.GNP.MKTP.CD</td>\n      <td>None</td>\n      <td>None</td>\n    </tr>\n  </tbody>\n</table>\n</div>"
          },
          "metadata": {}
        }
      ],
      "execution_count": null
    },
    {
      "cell_type": "code",
      "source": [
        "# 1. Verify the number of unique economic indicators\n",
        "query_indicators = \"\"\"\n",
        "SELECT COUNT(DISTINCT indicator_code) as unique_indicators\n",
        "FROM `bigquery-public-data.world_bank_intl_debt.international_debt`\n",
        "\"\"\"\n",
        "indicators_result = wbid.query_to_pandas_safe(query_indicators)\n",
        "print(f\"\\nNumber of unique economic indicators: {indicators_result['unique_indicators'][0]}\")\n",
        "\n",
        "query_countries = \"\"\"\n",
        "SELECT COUNT(DISTINCT country_code) as unique_countries\n",
        "FROM `bigquery-public-data.world_bank_intl_debt.international_debt`\n",
        "\"\"\"\n",
        "countries_result = wbid.query_to_pandas_safe(query_countries)\n",
        "print(f\"Number of unique countries/regions: {countries_result['unique_countries'][0]}\")\n",
        "\n",
        "# # Optional: Explore indicator definitions (if a series table exists)\n",
        "# query_series = \"\"\"\n",
        "# SELECT indicator_code, indicator_name\n",
        "# FROM `bigquery-public-data.world_bank_intl_debt.series`\n",
        "# LIMIT 5\n",
        "# \"\"\"\n",
        "# series_result = wbid.query_to_pandas_safe(query_series)\n",
        "# print(\"\\nSample of economic indicators:\")\n",
        "# print(series_result)"
      ],
      "metadata": {
        "trusted": true,
        "execution": {
          "iopub.status.busy": "2025-05-24T14:05:10.806177Z",
          "iopub.execute_input": "2025-05-24T14:05:10.806542Z",
          "iopub.status.idle": "2025-05-24T14:05:15.042354Z",
          "shell.execute_reply.started": "2025-05-24T14:05:10.806476Z",
          "shell.execute_reply": "2025-05-24T14:05:15.041506Z"
        },
        "id": "Xpf3lx-OpZLg",
        "outputId": "41c1745c-70bd-4f8d-c7c8-4f9c92cf7091"
      },
      "outputs": [
        {
          "name": "stdout",
          "text": "\nNumber of unique economic indicators: 497\nNumber of unique countries/regions: 135\n",
          "output_type": "stream"
        }
      ],
      "execution_count": null
    },
    {
      "cell_type": "markdown",
      "source": [
        "countries that had the largest outstanding debt in 2016"
      ],
      "metadata": {
        "_uuid": "4c0b0846d2c89d3d7d642df139a4f3f44281329c",
        "_cell_guid": "20ec90c0-2c4f-47f8-b2f3-0fcb5398da43",
        "id": "MhG7XHZ9pZLg"
      }
    },
    {
      "cell_type": "code",
      "source": [
        "query1 = \"\"\"\n",
        "SELECT\n",
        "  id.country_name,\n",
        "  id.value AS debt --format in DataStudio\n",
        "FROM (\n",
        "  SELECT\n",
        "    country_code,\n",
        "    region\n",
        "  FROM\n",
        "    `bigquery-public-data.world_bank_intl_debt.country_summary`\n",
        "  WHERE\n",
        "    region != \"\" ) cs --aggregated countries do not have a region\n",
        "INNER JOIN (\n",
        "  SELECT\n",
        "    country_code,\n",
        "    country_name,\n",
        "    value,\n",
        "    year\n",
        "  FROM\n",
        "    `bigquery-public-data.world_bank_intl_debt.international_debt`\n",
        "  WHERE\n",
        "    indicator_code = \"DT.DOD.PVLX.CD\"\n",
        "    AND year = 2016 ) id\n",
        "ON\n",
        "  cs.country_code = id.country_code\n",
        "ORDER BY\n",
        "  id.value DESC\n",
        ";\n",
        "        \"\"\"\n",
        "response1 = wbid.query_to_pandas_safe(query1)\n",
        "response1.head(5)"
      ],
      "metadata": {
        "_uuid": "f5b4b60eac0b9b277727737d89d01e99732fd83d",
        "_cell_guid": "2d7adf14-9876-40bf-a972-e87221fd3e60",
        "trusted": true,
        "execution": {
          "iopub.status.busy": "2025-05-24T14:05:15.043785Z",
          "iopub.execute_input": "2025-05-24T14:05:15.044141Z",
          "iopub.status.idle": "2025-05-24T14:05:16.901302Z",
          "shell.execute_reply.started": "2025-05-24T14:05:15.044075Z",
          "shell.execute_reply": "2025-05-24T14:05:16.900401Z"
        },
        "id": "oxlo9oXkpZLg",
        "outputId": "58f8d4fe-85d9-45b8-a215-ce61b44b931e"
      },
      "outputs": [
        {
          "execution_count": 16,
          "output_type": "execute_result",
          "data": {
            "text/plain": "Empty DataFrame\nColumns: [country_name, debt]\nIndex: []",
            "text/html": "<div>\n<style scoped>\n    .dataframe tbody tr th:only-of-type {\n        vertical-align: middle;\n    }\n\n    .dataframe tbody tr th {\n        vertical-align: top;\n    }\n\n    .dataframe thead th {\n        text-align: right;\n    }\n</style>\n<table border=\"1\" class=\"dataframe\">\n  <thead>\n    <tr style=\"text-align: right;\">\n      <th></th>\n      <th>country_name</th>\n      <th>debt</th>\n    </tr>\n  </thead>\n  <tbody>\n  </tbody>\n</table>\n</div>"
          },
          "metadata": {}
        }
      ],
      "execution_count": null
    },
    {
      "cell_type": "markdown",
      "source": [
        "# EDA"
      ],
      "metadata": {
        "_uuid": "10360d78dd247ab7d32a7eb1b6586237c307a91c",
        "_cell_guid": "b762ca40-d7ab-4dd0-ad5b-4dfedd28291f",
        "id": "on23sJrdpZLh"
      }
    },
    {
      "cell_type": "code",
      "source": [],
      "metadata": {
        "_uuid": "4354a57898d2665e6998702407deea34b206609c",
        "_cell_guid": "0dfb7ee0-8a0f-4981-9a42-9bdca84677dc",
        "trusted": true,
        "id": "eBPpEvxvpZLh"
      },
      "outputs": [],
      "execution_count": null
    },
    {
      "cell_type": "markdown",
      "source": [
        "## Country series defination"
      ],
      "metadata": {
        "_uuid": "c52cc7940886d88c0f76ad3130538d4bd2ecf3ab",
        "_cell_guid": "2717f037-9e0f-4452-8fc8-e3de2b21ae35",
        "id": "aZFA1pY7pZLh"
      }
    },
    {
      "cell_type": "code",
      "source": [
        "bq_assistant.head(\"country_series_definitions\", num_rows=5)"
      ],
      "metadata": {
        "_uuid": "7983f582961e6bb4abece91c77efaed57fa73863",
        "_cell_guid": "3ad8e836-5e2a-4a30-9272-12758b61e03a",
        "trusted": true,
        "execution": {
          "iopub.status.busy": "2025-05-24T14:05:16.902739Z",
          "iopub.execute_input": "2025-05-24T14:05:16.903075Z",
          "iopub.status.idle": "2025-05-24T14:05:17.615269Z",
          "shell.execute_reply.started": "2025-05-24T14:05:16.903017Z",
          "shell.execute_reply": "2025-05-24T14:05:17.614386Z"
        },
        "id": "6NBO2cKWpZLh",
        "outputId": "58763464-b3b6-4844-c5bb-b9a05849475e"
      },
      "outputs": [
        {
          "execution_count": 17,
          "output_type": "execute_result",
          "data": {
            "text/plain": "  ...\n0 ...\n1 ...\n2 ...\n3 ...\n4 ...\n\n[5 rows x 3 columns]",
            "text/html": "<div>\n<style scoped>\n    .dataframe tbody tr th:only-of-type {\n        vertical-align: middle;\n    }\n\n    .dataframe tbody tr th {\n        vertical-align: top;\n    }\n\n    .dataframe thead th {\n        text-align: right;\n    }\n</style>\n<table border=\"1\" class=\"dataframe\">\n  <thead>\n    <tr style=\"text-align: right;\">\n      <th></th>\n      <th>country_code</th>\n      <th>series_code</th>\n      <th>description</th>\n    </tr>\n  </thead>\n  <tbody>\n    <tr>\n      <th>0</th>\n      <td>AFG</td>\n      <td>BX.KLT.DINV.CD.DT</td>\n      <td>Data on Foreign Direct Investment are based on...</td>\n    </tr>\n    <tr>\n      <th>1</th>\n      <td>AGO</td>\n      <td>BX.KLT.DINV.CD.DT</td>\n      <td>Data on Foreign Direct Investment are based on...</td>\n    </tr>\n    <tr>\n      <th>2</th>\n      <td>ALB</td>\n      <td>BX.KLT.DINV.CD.DT</td>\n      <td>Data on Foreign Direct Investment are based on...</td>\n    </tr>\n    <tr>\n      <th>3</th>\n      <td>ARG</td>\n      <td>BX.KLT.DINV.CD.DT</td>\n      <td>Data on Foreign Direct Investment are based on...</td>\n    </tr>\n    <tr>\n      <th>4</th>\n      <td>ARM</td>\n      <td>BX.KLT.DINV.CD.DT</td>\n      <td>Data on Foreign Direct Investment are based on...</td>\n    </tr>\n  </tbody>\n</table>\n</div>"
          },
          "metadata": {}
        }
      ],
      "execution_count": null
    },
    {
      "cell_type": "code",
      "source": [
        "bq_assistant.table_schema('country_series_definitions')"
      ],
      "metadata": {
        "_uuid": "f85ac99e48b3ca6c0ffa6ef39de525ee3c8b1e3a",
        "_cell_guid": "b01292f9-6b7b-4dd3-820c-3cd3012125a8",
        "trusted": true,
        "execution": {
          "iopub.status.busy": "2025-05-24T14:05:17.616251Z",
          "iopub.execute_input": "2025-05-24T14:05:17.616554Z",
          "iopub.status.idle": "2025-05-24T14:05:17.622678Z",
          "shell.execute_reply.started": "2025-05-24T14:05:17.616506Z",
          "shell.execute_reply": "2025-05-24T14:05:17.621782Z"
        },
        "id": "5Oqgx1TzpZLi",
        "outputId": "8b459b87-bcbe-460a-9804-1b57c40220f2"
      },
      "outputs": [
        {
          "execution_count": 18,
          "output_type": "execute_result",
          "data": {
            "text/plain": "[SchemaField('country_code', 'STRING', 'NULLABLE', None, ()),\n SchemaField('series_code', 'STRING', 'NULLABLE', None, ()),\n SchemaField('description', 'STRING', 'NULLABLE', None, ())]"
          },
          "metadata": {}
        }
      ],
      "execution_count": null
    },
    {
      "cell_type": "markdown",
      "source": [
        "**Let's check number of countries and series code in this table**"
      ],
      "metadata": {
        "_uuid": "75ec5ff0e609705abd596279cfe05d7e4cf28c4e",
        "_cell_guid": "069c4c56-fe98-4a01-807c-913a5f876724",
        "id": "HC0KAeoNpZLi"
      }
    },
    {
      "cell_type": "code",
      "source": [
        "# Number of countries\n",
        "query2 = \"\"\"\n",
        "SELECT count(distinct country_code) from `bigquery-public-data.world_bank_intl_debt.country_series_definitions`\n",
        "\"\"\"\n",
        "\n",
        "# Number of series code\n",
        "query3 = \"\"\"\n",
        "SELECT count(distinct series_code) from `bigquery-public-data.world_bank_intl_debt.country_series_definitions`\n",
        "\"\"\"\n",
        "\n",
        "# total rows in the table\n",
        "query4 = \"\"\"\n",
        "SELECT count(country_code) from `bigquery-public-data.world_bank_intl_debt.country_series_definitions`\n",
        "\"\"\""
      ],
      "metadata": {
        "_uuid": "fb3d5e6e64744f1caef50906c56d98300ca971e6",
        "_cell_guid": "ccc2feef-7878-4d99-a4a8-5bde657a8b95",
        "trusted": true,
        "execution": {
          "iopub.status.busy": "2025-05-24T14:05:17.623762Z",
          "iopub.execute_input": "2025-05-24T14:05:17.624065Z",
          "iopub.status.idle": "2025-05-24T14:05:17.632032Z",
          "shell.execute_reply.started": "2025-05-24T14:05:17.62401Z",
          "shell.execute_reply": "2025-05-24T14:05:17.631051Z"
        },
        "id": "cTzkf5JLpZLi"
      },
      "outputs": [],
      "execution_count": null
    },
    {
      "cell_type": "code",
      "source": [
        "# Number of countries\n",
        "response2 = wbid.query_to_pandas_safe(query2)\n",
        "response3 = wbid.query_to_pandas_safe(query3)\n",
        "response4 = wbid.query_to_pandas_safe(query4)\n",
        "print('Total number of countries:', response2.at[0, 'f0_'])\n",
        "print('Total number of series codes:', response3.at[0, 'f0_'])\n",
        "print('Total number of rows:', response4.at[0, 'f0_'])"
      ],
      "metadata": {
        "_uuid": "f80d578b2e097823b47ddcfa39a90a21dd418949",
        "_cell_guid": "7158efa0-b89f-4df5-897c-d6683be6c30d",
        "trusted": true,
        "execution": {
          "iopub.status.busy": "2025-05-24T14:05:17.633382Z",
          "iopub.execute_input": "2025-05-24T14:05:17.633736Z",
          "iopub.status.idle": "2025-05-24T14:05:22.770116Z",
          "shell.execute_reply.started": "2025-05-24T14:05:17.633681Z",
          "shell.execute_reply": "2025-05-24T14:05:22.769342Z"
        },
        "id": "VMzzva4WpZLi",
        "outputId": "d84d4f63-a3b7-4d28-ecc3-2e7af7325331"
      },
      "outputs": [
        {
          "name": "stdout",
          "text": "Total number of countries: 133\nTotal number of series codes: 6\nTotal number of rows: 263\n",
          "output_type": "stream"
        }
      ],
      "execution_count": null
    },
    {
      "cell_type": "code",
      "source": [
        "country_series_map_q = \"\"\"\n",
        "SELECT country_code, count(series_code) from `bigquery-public-data.world_bank_intl_debt.country_series_definitions` group by country_code\n",
        "\"\"\""
      ],
      "metadata": {
        "_uuid": "66d363c936bc0d4d5d3e31b8f3fb3f52fbf6b4b4",
        "_cell_guid": "1da06187-09e6-4570-8378-2cdf3a415ba9",
        "trusted": true,
        "execution": {
          "iopub.status.busy": "2025-05-24T14:05:22.771406Z",
          "iopub.execute_input": "2025-05-24T14:05:22.771789Z",
          "iopub.status.idle": "2025-05-24T14:05:22.776248Z",
          "shell.execute_reply.started": "2025-05-24T14:05:22.771726Z",
          "shell.execute_reply": "2025-05-24T14:05:22.775226Z"
        },
        "id": "zAhKQ_TZpZLi"
      },
      "outputs": [],
      "execution_count": null
    },
    {
      "cell_type": "code",
      "source": [
        "country_series_map = wbid.query_to_pandas_safe(country_series_map_q)\n",
        "country_series_map.columns = ['country_code', 'total_series_per_country']"
      ],
      "metadata": {
        "_uuid": "7adb04f50c08667f894e6f1b8eed0ee1078549a0",
        "_cell_guid": "76fd204d-d244-49bf-a7fa-326092697e9f",
        "trusted": true,
        "execution": {
          "iopub.status.busy": "2025-05-24T14:05:22.777739Z",
          "iopub.execute_input": "2025-05-24T14:05:22.778076Z",
          "iopub.status.idle": "2025-05-24T14:05:24.487241Z",
          "shell.execute_reply.started": "2025-05-24T14:05:22.777999Z",
          "shell.execute_reply": "2025-05-24T14:05:24.486222Z"
        },
        "id": "7qoOGxXtpZLi"
      },
      "outputs": [],
      "execution_count": null
    },
    {
      "cell_type": "code",
      "source": [
        "country_series_map[country_series_map['total_series_per_country'] == country_series_map['total_series_per_country'].max()]"
      ],
      "metadata": {
        "_uuid": "2216546408ead0e574de3a9b9883a475849d078c",
        "_cell_guid": "983dbd4c-51fd-4eb5-86aa-0ba376a80693",
        "trusted": true,
        "execution": {
          "iopub.status.busy": "2025-05-24T14:05:24.48887Z",
          "iopub.execute_input": "2025-05-24T14:05:24.48926Z",
          "iopub.status.idle": "2025-05-24T14:05:24.505386Z",
          "shell.execute_reply.started": "2025-05-24T14:05:24.489187Z",
          "shell.execute_reply": "2025-05-24T14:05:24.504495Z"
        },
        "id": "Jc61RvAupZLi",
        "outputId": "d455693e-73b1-45d3-f546-1d2cd1c4ec27"
      },
      "outputs": [
        {
          "execution_count": 23,
          "output_type": "execute_result",
          "data": {
            "text/plain": "   country_code  total_series_per_country\n51          IND                         5",
            "text/html": "<div>\n<style scoped>\n    .dataframe tbody tr th:only-of-type {\n        vertical-align: middle;\n    }\n\n    .dataframe tbody tr th {\n        vertical-align: top;\n    }\n\n    .dataframe thead th {\n        text-align: right;\n    }\n</style>\n<table border=\"1\" class=\"dataframe\">\n  <thead>\n    <tr style=\"text-align: right;\">\n      <th></th>\n      <th>country_code</th>\n      <th>total_series_per_country</th>\n    </tr>\n  </thead>\n  <tbody>\n    <tr>\n      <th>51</th>\n      <td>IND</td>\n      <td>5</td>\n    </tr>\n  </tbody>\n</table>\n</div>"
          },
          "metadata": {}
        }
      ],
      "execution_count": null
    },
    {
      "cell_type": "markdown",
      "source": [
        "**India has taken highest types of debts. Pretty cool huh!**\n",
        "\n",
        "1. Lets try this other way around"
      ],
      "metadata": {
        "_uuid": "c708cbe25b14adef2148563e795b5b4b1eb0466a",
        "_cell_guid": "69b9fac5-a093-4462-a78c-c378f9d7ef5f",
        "id": "Zscf8EB2pZLj"
      }
    },
    {
      "cell_type": "code",
      "source": [
        "series_country_map_q = \"\"\"\n",
        "SELECT series_code, count(country_code) from `bigquery-public-data.world_bank_intl_debt.country_series_definitions` group by series_code\n",
        "\"\"\""
      ],
      "metadata": {
        "_uuid": "834b1416086aea83e84719526a7158b7f1cbf008",
        "_cell_guid": "b5b37aa1-e9f6-4c63-a9e4-a2f9c5aefacd",
        "trusted": true,
        "execution": {
          "iopub.status.busy": "2025-05-24T14:05:24.506726Z",
          "iopub.execute_input": "2025-05-24T14:05:24.507017Z",
          "iopub.status.idle": "2025-05-24T14:05:24.516187Z",
          "shell.execute_reply.started": "2025-05-24T14:05:24.506961Z",
          "shell.execute_reply": "2025-05-24T14:05:24.51533Z"
        },
        "id": "v87d9PHspZLj"
      },
      "outputs": [],
      "execution_count": null
    },
    {
      "cell_type": "code",
      "source": [
        "series_country_map = wbid.query_to_pandas_safe(series_country_map_q)\n",
        "series_country_map.columns = ['series_code', 'total_countries_per_series']"
      ],
      "metadata": {
        "_uuid": "198fd8f6001f0d982125b285e1e56a3cb6ce93be",
        "_cell_guid": "8cc831e2-3357-4386-8427-734086e19fc6",
        "trusted": true,
        "execution": {
          "iopub.status.busy": "2025-05-24T14:05:24.517746Z",
          "iopub.execute_input": "2025-05-24T14:05:24.518102Z",
          "iopub.status.idle": "2025-05-24T14:05:26.295321Z",
          "shell.execute_reply.started": "2025-05-24T14:05:24.518032Z",
          "shell.execute_reply": "2025-05-24T14:05:26.294543Z"
        },
        "id": "P-cFhYGopZLj"
      },
      "outputs": [],
      "execution_count": null
    },
    {
      "cell_type": "code",
      "source": [
        "a4_dims = (25.7, 6.27)\n",
        "fig, ax = plt.subplots(figsize=a4_dims)\n",
        "sns.barplot('series_code', 'total_countries_per_series', data = series_country_map)\n",
        "plt.show()"
      ],
      "metadata": {
        "_uuid": "4bfdb89499075c5e8f641daf369a9b1ba418291d",
        "_cell_guid": "4603f802-5ba3-42c9-b350-356f8510533e",
        "trusted": true,
        "execution": {
          "iopub.status.busy": "2025-05-24T14:05:26.296707Z",
          "iopub.execute_input": "2025-05-24T14:05:26.297049Z",
          "iopub.status.idle": "2025-05-24T14:05:26.583382Z",
          "shell.execute_reply.started": "2025-05-24T14:05:26.296989Z",
          "shell.execute_reply": "2025-05-24T14:05:26.582568Z"
        },
        "id": "t9eIbCDCpZLj",
        "outputId": "5a266872-0fa9-44f6-fe0d-07f6ab23e802"
      },
      "outputs": [
        {
          "output_type": "display_data",
          "data": {
            "text/plain": "<matplotlib.figure.Figure at 0x79de414625c0>",
            "image/png": "[encoded data removed]"
          },
          "metadata": {}
        }
      ],
      "execution_count": null
    },
    {
      "cell_type": "markdown",
      "source": [],
      "metadata": {
        "_uuid": "f71c5835a6ef927131ccc7cee32bba5c30971b3e",
        "_cell_guid": "fcab147b-179a-4d3f-9575-d6d2e9e4e942",
        "id": "T6lOuS1PpZLj"
      }
    },
    {
      "cell_type": "code",
      "source": [
        "query5 =  \"\"\"\n",
        "SELECT distinct(series_code), description from `bigquery-public-data.world_bank_intl_debt.country_series_definitions` where series_code = 'DT.DOD.DECT.CD'\"\"\""
      ],
      "metadata": {
        "_uuid": "41d112967d78bcce6c9865a8b7a2e62df6c22109",
        "_cell_guid": "d42dac6c-1cf1-46fb-87d7-87f51d655d22",
        "trusted": true,
        "execution": {
          "iopub.status.busy": "2025-05-24T14:05:26.584562Z",
          "iopub.execute_input": "2025-05-24T14:05:26.584794Z",
          "iopub.status.idle": "2025-05-24T14:05:26.588327Z",
          "shell.execute_reply.started": "2025-05-24T14:05:26.584754Z",
          "shell.execute_reply": "2025-05-24T14:05:26.587596Z"
        },
        "id": "ciBuM5VApZLj"
      },
      "outputs": [],
      "execution_count": null
    },
    {
      "cell_type": "code",
      "source": [
        "print('DT.DOD.DECT.CD is a ' + wbid.query_to_pandas_safe(query5).iloc[1,1])"
      ],
      "metadata": {
        "_uuid": "4e208fec9704537750870e026f668c08340deb4c",
        "_cell_guid": "6abe56e3-4063-497a-880c-e5d5f12de8a1",
        "trusted": true,
        "execution": {
          "iopub.status.busy": "2025-05-24T14:05:26.589439Z",
          "iopub.execute_input": "2025-05-24T14:05:26.589708Z",
          "iopub.status.idle": "2025-05-24T14:05:28.274941Z",
          "shell.execute_reply.started": "2025-05-24T14:05:26.589666Z",
          "shell.execute_reply": "2025-05-24T14:05:28.274115Z"
        },
        "id": "WjmVOQncpZLj",
        "outputId": "940cc122-b4b1-4f09-e576-9b73555b2e78"
      },
      "outputs": [
        {
          "name": "stdout",
          "text": "DT.DOD.DECT.CD is a Long-term public and publicly guaranteed and long-term private nonguaranteed debt data for 2018 are based on reports provided by the country. Short-term debt data are not available.\n",
          "output_type": "stream"
        }
      ],
      "execution_count": null
    },
    {
      "cell_type": "code",
      "source": [
        "query6 =  \"\"\"\n",
        "SELECT distinct(series_code), description from `bigquery-public-data.world_bank_intl_debt.country_series_definitions` where series_code = 'BX.KLT.DINV.CD.DT'\"\"\""
      ],
      "metadata": {
        "_uuid": "f81689086c3f96fb99413815d4848b15f7fb6909",
        "_cell_guid": "be5a71a9-4016-410a-9c70-5e271f3cb98d",
        "trusted": true,
        "execution": {
          "iopub.status.busy": "2025-05-24T14:05:28.276201Z",
          "iopub.execute_input": "2025-05-24T14:05:28.276566Z",
          "iopub.status.idle": "2025-05-24T14:05:28.280596Z",
          "shell.execute_reply.started": "2025-05-24T14:05:28.276499Z",
          "shell.execute_reply": "2025-05-24T14:05:28.279724Z"
        },
        "id": "jEVKFFxhpZLj"
      },
      "outputs": [],
      "execution_count": null
    },
    {
      "cell_type": "code",
      "source": [
        "print('BX.KLT.DINV.CD.DT is ' + wbid.query_to_pandas_safe(query6).iloc[0,1])"
      ],
      "metadata": {
        "_uuid": "2959ebca8bb56e259bac72b59f132641214b9a41",
        "_cell_guid": "f13a005c-9b7d-487a-8b8d-fe47ab9e8f87",
        "trusted": true,
        "execution": {
          "iopub.status.busy": "2025-05-24T14:05:28.28179Z",
          "iopub.execute_input": "2025-05-24T14:05:28.282017Z",
          "iopub.status.idle": "2025-05-24T14:05:29.906277Z",
          "shell.execute_reply.started": "2025-05-24T14:05:28.281977Z",
          "shell.execute_reply": "2025-05-24T14:05:29.905349Z"
        },
        "id": "d9cbEnD4pZLj",
        "outputId": "353fa842-8008-4a3f-fddf-dc38ea88b5fe"
      },
      "outputs": [
        {
          "name": "stdout",
          "text": "BX.KLT.DINV.CD.DT is Data on Foreign Direct Investment are based on Balance of Payments reported by the International Monetary Fund. Unless otherwise specified in the specific years.\n",
          "output_type": "stream"
        }
      ],
      "execution_count": null
    },
    {
      "cell_type": "markdown",
      "source": [
        "So we now understood coutry series mappping pretty well.\n",
        "\n",
        "Moving further"
      ],
      "metadata": {
        "_uuid": "e48807ede11f91353ff469f9880ec6904fa3cd70",
        "_cell_guid": "84200377-bd72-4032-9757-f01c2aff58eb",
        "id": "zKkoZcpdpZLj"
      }
    },
    {
      "cell_type": "markdown",
      "source": [
        "## country_summary"
      ],
      "metadata": {
        "_uuid": "7f2d8fa444e02172276a3ef50c04b5fc9996a49f",
        "_cell_guid": "e53cda86-e55c-4b10-be90-a88eeabc91cb",
        "id": "GOZS4S-VpZLk"
      }
    },
    {
      "cell_type": "code",
      "source": [
        "bq_assistant.head(\"country_summary\", num_rows=5)"
      ],
      "metadata": {
        "_uuid": "bc20ca166921f9f6d19222f2b4d1e0aa1ed46fdf",
        "_cell_guid": "188f5964-82b0-45f1-94d0-7f8ca4b56ab2",
        "trusted": true,
        "execution": {
          "iopub.status.busy": "2025-05-24T14:05:29.907483Z",
          "iopub.execute_input": "2025-05-24T14:05:29.907765Z",
          "iopub.status.idle": "2025-05-24T14:05:30.653526Z",
          "shell.execute_reply.started": "2025-05-24T14:05:29.907711Z",
          "shell.execute_reply": "2025-05-24T14:05:30.65265Z"
        },
        "id": "_5L4-uqqpZLk",
        "outputId": "814bc3f2-38a4-4996-86ff-e00ec61d98df"
      },
      "outputs": [
        {
          "execution_count": 31,
          "output_type": "execute_result",
          "data": {
            "text/plain": "  country_code             ...              latest_water_withdrawal_data\n0          EAP             ...                                      None\n1          ECA             ...                                      None\n2          IDX             ...                                      None\n3          LAC             ...                                      None\n4          LDC             ...                                      None\n\n[5 rows x 31 columns]",
            "text/html": "<div>\n<style scoped>\n    .dataframe tbody tr th:only-of-type {\n        vertical-align: middle;\n    }\n\n    .dataframe tbody tr th {\n        vertical-align: top;\n    }\n\n    .dataframe thead th {\n        text-align: right;\n    }\n</style>\n<table border=\"1\" class=\"dataframe\">\n  <thead>\n    <tr style=\"text-align: right;\">\n      <th></th>\n      <th>country_code</th>\n      <th>short_name</th>\n      <th>table_name</th>\n      <th>long_name</th>\n      <th>two_alpha_code</th>\n      <th>currency_unit</th>\n      <th>special_notes</th>\n      <th>region</th>\n      <th>income_group</th>\n      <th>wb_2_code</th>\n      <th>national_accounts_base_year</th>\n      <th>national_accounts_reference_year</th>\n      <th>sna_price_valuation</th>\n      <th>lending_category</th>\n      <th>other_groups</th>\n      <th>system_of_national_accounts</th>\n      <th>alternative_conversion_factor</th>\n      <th>ppp_survey_year</th>\n      <th>balance_of_payments_manual_in_use</th>\n      <th>external_debt_reporting_status</th>\n      <th>system_of_trade</th>\n      <th>government_accounting_concept</th>\n      <th>imf_data_dissemination_standard</th>\n      <th>latest_population_census</th>\n      <th>latest_household_survey</th>\n      <th>source_of_most_recent_Income_and_expenditure_data</th>\n      <th>vital_registration_complete</th>\n      <th>latest_agricultural_census</th>\n      <th>latest_industrial_data</th>\n      <th>latest_trade_data</th>\n      <th>latest_water_withdrawal_data</th>\n    </tr>\n  </thead>\n  <tbody>\n    <tr>\n      <th>0</th>\n      <td>EAP</td>\n      <td>East Asia &amp; Pacific (excluding high income)</td>\n      <td>East Asia &amp; Pacific (excluding high income)</td>\n      <td>East Asia &amp; Pacific (excluding high income)</td>\n      <td>4E</td>\n      <td>None</td>\n      <td>East Asia and Pacific regional aggregate (does...</td>\n      <td>None</td>\n      <td>None</td>\n      <td>4E</td>\n      <td>None</td>\n      <td>None</td>\n      <td>None</td>\n      <td>None</td>\n      <td>None</td>\n      <td>None</td>\n      <td>None</td>\n      <td>None</td>\n      <td>None</td>\n      <td>None</td>\n      <td>None</td>\n      <td>None</td>\n      <td>None</td>\n      <td>None</td>\n      <td>None</td>\n      <td>None</td>\n      <td>None</td>\n      <td>None</td>\n      <td>None</td>\n      <td>None</td>\n      <td>None</td>\n    </tr>\n    <tr>\n      <th>1</th>\n      <td>ECA</td>\n      <td>Europe &amp; Central Asia (excluding high income)</td>\n      <td>Europe &amp; Central Asia (excluding high income)</td>\n      <td>Europe &amp; Central Asia (excluding high income)</td>\n      <td>7E</td>\n      <td>None</td>\n      <td>Europe and Central Asia regional aggregate (do...</td>\n      <td>None</td>\n      <td>None</td>\n      <td>7E</td>\n      <td>None</td>\n      <td>None</td>\n      <td>None</td>\n      <td>None</td>\n      <td>None</td>\n      <td>None</td>\n      <td>None</td>\n      <td>None</td>\n      <td>None</td>\n      <td>None</td>\n      <td>None</td>\n      <td>None</td>\n      <td>None</td>\n      <td>None</td>\n      <td>None</td>\n      <td>None</td>\n      <td>None</td>\n      <td>None</td>\n      <td>None</td>\n      <td>None</td>\n      <td>None</td>\n    </tr>\n    <tr>\n      <th>2</th>\n      <td>IDX</td>\n      <td>IDA only</td>\n      <td>IDA only</td>\n      <td>IDA only</td>\n      <td>XI</td>\n      <td>None</td>\n      <td>IDA only group aggregate.</td>\n      <td>None</td>\n      <td>None</td>\n      <td>XI</td>\n      <td>None</td>\n      <td>None</td>\n      <td>None</td>\n      <td>None</td>\n      <td>None</td>\n      <td>None</td>\n      <td>None</td>\n      <td>None</td>\n      <td>None</td>\n      <td>None</td>\n      <td>None</td>\n      <td>None</td>\n      <td>None</td>\n      <td>None</td>\n      <td>None</td>\n      <td>None</td>\n      <td>None</td>\n      <td>None</td>\n      <td>None</td>\n      <td>None</td>\n      <td>None</td>\n    </tr>\n    <tr>\n      <th>3</th>\n      <td>LAC</td>\n      <td>Latin America &amp; Caribbean (excluding high income)</td>\n      <td>Latin America &amp; Caribbean (excluding high income)</td>\n      <td>Latin America &amp; Caribbean (excluding high income)</td>\n      <td>XJ</td>\n      <td>None</td>\n      <td>Latin America and Caribbean regional aggregate...</td>\n      <td>None</td>\n      <td>None</td>\n      <td>XJ</td>\n      <td>None</td>\n      <td>None</td>\n      <td>None</td>\n      <td>None</td>\n      <td>None</td>\n      <td>None</td>\n      <td>None</td>\n      <td>None</td>\n      <td>None</td>\n      <td>None</td>\n      <td>None</td>\n      <td>None</td>\n      <td>None</td>\n      <td>None</td>\n      <td>None</td>\n      <td>None</td>\n      <td>None</td>\n      <td>None</td>\n      <td>None</td>\n      <td>None</td>\n      <td>None</td>\n    </tr>\n    <tr>\n      <th>4</th>\n      <td>LDC</td>\n      <td>Least developed countries: UN classification</td>\n      <td>Least developed countries: UN classification</td>\n      <td>Least developed countries: UN classification</td>\n      <td>XL</td>\n      <td>None</td>\n      <td>Least developed countries (UN classification) ...</td>\n      <td>None</td>\n      <td>None</td>\n      <td>XL</td>\n      <td>None</td>\n      <td>None</td>\n      <td>None</td>\n      <td>None</td>\n      <td>None</td>\n      <td>None</td>\n      <td>None</td>\n      <td>None</td>\n      <td>None</td>\n      <td>None</td>\n      <td>None</td>\n      <td>None</td>\n      <td>None</td>\n      <td>None</td>\n      <td>None</td>\n      <td>None</td>\n      <td>None</td>\n      <td>None</td>\n      <td>None</td>\n      <td>None</td>\n      <td>None</td>\n    </tr>\n  </tbody>\n</table>\n</div>"
          },
          "metadata": {}
        }
      ],
      "execution_count": null
    },
    {
      "cell_type": "code",
      "source": [
        "bq_assistant.table_schema('country_summary')"
      ],
      "metadata": {
        "_uuid": "12b00be5b657ffe625c28a0fdc38dbfa8c903de9",
        "_cell_guid": "1e396a3c-4250-45d6-ad96-25e84a374625",
        "trusted": true,
        "execution": {
          "iopub.status.busy": "2025-05-24T14:05:30.654647Z",
          "iopub.execute_input": "2025-05-24T14:05:30.654929Z",
          "iopub.status.idle": "2025-05-24T14:05:30.661111Z",
          "shell.execute_reply.started": "2025-05-24T14:05:30.654882Z",
          "shell.execute_reply": "2025-05-24T14:05:30.660276Z"
        },
        "id": "yjsprTSOpZLk",
        "outputId": "f19fb275-06c3-4987-b181-cb0127d8d2b6"
      },
      "outputs": [
        {
          "execution_count": 32,
          "output_type": "execute_result",
          "data": {
            "text/plain": "[SchemaField('country_code', 'STRING', 'NULLABLE', None, ()),\n SchemaField('short_name', 'STRING', 'NULLABLE', None, ()),\n SchemaField('table_name', 'STRING', 'NULLABLE', None, ()),\n SchemaField('long_name', 'STRING', 'NULLABLE', None, ()),\n SchemaField('two_alpha_code', 'STRING', 'NULLABLE', None, ()),\n SchemaField('currency_unit', 'STRING', 'NULLABLE', None, ()),\n SchemaField('special_notes', 'STRING', 'NULLABLE', None, ()),\n SchemaField('region', 'STRING', 'NULLABLE', None, ()),\n SchemaField('income_group', 'STRING', 'NULLABLE', None, ()),\n SchemaField('wb_2_code', 'STRING', 'NULLABLE', None, ()),\n SchemaField('national_accounts_base_year', 'STRING', 'NULLABLE', None, ()),\n SchemaField('national_accounts_reference_year', 'STRING', 'NULLABLE', None, ()),\n SchemaField('sna_price_valuation', 'STRING', 'NULLABLE', None, ()),\n SchemaField('lending_category', 'STRING', 'NULLABLE', None, ()),\n SchemaField('other_groups', 'STRING', 'NULLABLE', None, ()),\n SchemaField('system_of_national_accounts', 'STRING', 'NULLABLE', None, ()),\n SchemaField('alternative_conversion_factor', 'STRING', 'NULLABLE', None, ()),\n SchemaField('ppp_survey_year', 'STRING', 'NULLABLE', None, ()),\n SchemaField('balance_of_payments_manual_in_use', 'STRING', 'NULLABLE', None, ()),\n SchemaField('external_debt_reporting_status', 'STRING', 'NULLABLE', None, ()),\n SchemaField('system_of_trade', 'STRING', 'NULLABLE', None, ()),\n SchemaField('government_accounting_concept', 'STRING', 'NULLABLE', None, ()),\n SchemaField('imf_data_dissemination_standard', 'STRING', 'NULLABLE', None, ()),\n SchemaField('latest_population_census', 'STRING', 'NULLABLE', None, ()),\n SchemaField('latest_household_survey', 'STRING', 'NULLABLE', None, ()),\n SchemaField('source_of_most_recent_Income_and_expenditure_data', 'STRING', 'NULLABLE', None, ()),\n SchemaField('vital_registration_complete', 'STRING', 'NULLABLE', None, ()),\n SchemaField('latest_agricultural_census', 'STRING', 'NULLABLE', None, ()),\n SchemaField('latest_industrial_data', 'INTEGER', 'NULLABLE', None, ()),\n SchemaField('latest_trade_data', 'INTEGER', 'NULLABLE', None, ()),\n SchemaField('latest_water_withdrawal_data', 'STRING', 'NULLABLE', None, ())]"
          },
          "metadata": {}
        }
      ],
      "execution_count": null
    },
    {
      "cell_type": "code",
      "source": [
        "response1 = wbid.query_to_pandas_safe(\"SELECT distinct(income_group) from `bigquery-public-data.world_bank_intl_debt.country_summary` \")\n",
        "response1.head(10)"
      ],
      "metadata": {
        "_uuid": "0bf573c5093913284ce86e211f62e3d3f3f9c239",
        "_cell_guid": "554cbe40-30eb-4893-bcda-a4e0e66e4531",
        "trusted": true,
        "execution": {
          "iopub.status.busy": "2025-05-24T14:05:30.662405Z",
          "iopub.execute_input": "2025-05-24T14:05:30.662747Z",
          "iopub.status.idle": "2025-05-24T14:05:32.335425Z",
          "shell.execute_reply.started": "2025-05-24T14:05:30.662691Z",
          "shell.execute_reply": "2025-05-24T14:05:32.334654Z"
        },
        "id": "Pcg5jy2opZLk",
        "outputId": "f87d90c0-f4fe-44cf-baf9-9514d8f22349"
      },
      "outputs": [
        {
          "execution_count": 33,
          "output_type": "execute_result",
          "data": {
            "text/plain": "          income_group\n0                 None\n1  Upper middle income\n2  Lower middle income\n3           Low income",
            "text/html": "<div>\n<style scoped>\n    .dataframe tbody tr th:only-of-type {\n        vertical-align: middle;\n    }\n\n    .dataframe tbody tr th {\n        vertical-align: top;\n    }\n\n    .dataframe thead th {\n        text-align: right;\n    }\n</style>\n<table border=\"1\" class=\"dataframe\">\n  <thead>\n    <tr style=\"text-align: right;\">\n      <th></th>\n      <th>income_group</th>\n    </tr>\n  </thead>\n  <tbody>\n    <tr>\n      <th>0</th>\n      <td>None</td>\n    </tr>\n    <tr>\n      <th>1</th>\n      <td>Upper middle income</td>\n    </tr>\n    <tr>\n      <th>2</th>\n      <td>Lower middle income</td>\n    </tr>\n    <tr>\n      <th>3</th>\n      <td>Low income</td>\n    </tr>\n  </tbody>\n</table>\n</div>"
          },
          "metadata": {}
        }
      ],
      "execution_count": null
    },
    {
      "cell_type": "code",
      "source": [
        "regions = wbid.query_to_pandas_safe(\"\"\"SELECT * from `bigquery-public-data.world_bank_intl_debt.country_summary` where income_group = ''\"\"\")\n",
        "regions.head()"
      ],
      "metadata": {
        "_uuid": "e45495d2cda9cb63d76d6f945d1ec065ce6819a4",
        "_cell_guid": "c2aec95f-a459-4592-8207-4e4165486a92",
        "trusted": true,
        "execution": {
          "iopub.status.busy": "2025-05-24T14:05:32.336612Z",
          "iopub.execute_input": "2025-05-24T14:05:32.336884Z",
          "iopub.status.idle": "2025-05-24T14:05:33.980987Z",
          "shell.execute_reply.started": "2025-05-24T14:05:32.336837Z",
          "shell.execute_reply": "2025-05-24T14:05:33.980218Z"
        },
        "id": "mQpNHRSppZLk",
        "outputId": "dabb9da9-15f8-41be-bbe2-9b61170a0ce4"
      },
      "outputs": [
        {
          "execution_count": 34,
          "output_type": "execute_result",
          "data": {
            "text/plain": "Empty DataFrame\nColumns: [country_code, short_name, table_name, long_name, two_alpha_code, currency_unit, special_notes, region, income_group, wb_2_code, national_accounts_base_year, national_accounts_reference_year, sna_price_valuation, lending_category, other_groups, system_of_national_accounts, alternative_conversion_factor, ppp_survey_year, balance_of_payments_manual_in_use, external_debt_reporting_status, system_of_trade, government_accounting_concept, imf_data_dissemination_standard, latest_population_census, latest_household_survey, source_of_most_recent_Income_and_expenditure_data, vital_registration_complete, latest_agricultural_census, latest_industrial_data, latest_trade_data, latest_water_withdrawal_data]\nIndex: []",
            "text/html": "<div>\n<style scoped>\n    .dataframe tbody tr th:only-of-type {\n        vertical-align: middle;\n    }\n\n    .dataframe tbody tr th {\n        vertical-align: top;\n    }\n\n    .dataframe thead th {\n        text-align: right;\n    }\n</style>\n<table border=\"1\" class=\"dataframe\">\n  <thead>\n    <tr style=\"text-align: right;\">\n      <th></th>\n      <th>country_code</th>\n      <th>short_name</th>\n      <th>table_name</th>\n      <th>long_name</th>\n      <th>two_alpha_code</th>\n      <th>currency_unit</th>\n      <th>special_notes</th>\n      <th>region</th>\n      <th>income_group</th>\n      <th>wb_2_code</th>\n      <th>national_accounts_base_year</th>\n      <th>national_accounts_reference_year</th>\n      <th>sna_price_valuation</th>\n      <th>lending_category</th>\n      <th>other_groups</th>\n      <th>system_of_national_accounts</th>\n      <th>alternative_conversion_factor</th>\n      <th>ppp_survey_year</th>\n      <th>balance_of_payments_manual_in_use</th>\n      <th>external_debt_reporting_status</th>\n      <th>system_of_trade</th>\n      <th>government_accounting_concept</th>\n      <th>imf_data_dissemination_standard</th>\n      <th>latest_population_census</th>\n      <th>latest_household_survey</th>\n      <th>source_of_most_recent_Income_and_expenditure_data</th>\n      <th>vital_registration_complete</th>\n      <th>latest_agricultural_census</th>\n      <th>latest_industrial_data</th>\n      <th>latest_trade_data</th>\n      <th>latest_water_withdrawal_data</th>\n    </tr>\n  </thead>\n  <tbody>\n  </tbody>\n</table>\n</div>"
          },
          "metadata": {}
        }
      ],
      "execution_count": null
    },
    {
      "cell_type": "code",
      "source": [
        "response1 = wbid.query_to_pandas_safe(\"\"\"SELECT short_name, income_group from `bigquery-public-data.world_bank_intl_debt.country_summary`\"\"\")\n",
        "response1.head(5)"
      ],
      "metadata": {
        "_uuid": "f4e48951e256e408e9ae0528c90506f161cb521b",
        "_cell_guid": "e154a4e0-2938-40f0-92d1-4cf77e3905c0",
        "trusted": true,
        "execution": {
          "iopub.status.busy": "2025-05-24T14:05:33.982559Z",
          "iopub.execute_input": "2025-05-24T14:05:33.982878Z",
          "iopub.status.idle": "2025-05-24T14:05:35.861899Z",
          "shell.execute_reply.started": "2025-05-24T14:05:33.982823Z",
          "shell.execute_reply": "2025-05-24T14:05:35.860929Z"
        },
        "id": "G8I_h8QrpZLk",
        "outputId": "035e253d-68c4-4550-bb0d-cac556ea701f"
      },
      "outputs": [
        {
          "execution_count": 35,
          "output_type": "execute_result",
          "data": {
            "text/plain": "                                          short_name income_group\n0        East Asia & Pacific (excluding high income)         None\n1      Europe & Central Asia (excluding high income)         None\n2                                           IDA only         None\n3  Latin America & Caribbean (excluding high income)         None\n4       Least developed countries: UN classification         None",
            "text/html": "<div>\n<style scoped>\n    .dataframe tbody tr th:only-of-type {\n        vertical-align: middle;\n    }\n\n    .dataframe tbody tr th {\n        vertical-align: top;\n    }\n\n    .dataframe thead th {\n        text-align: right;\n    }\n</style>\n<table border=\"1\" class=\"dataframe\">\n  <thead>\n    <tr style=\"text-align: right;\">\n      <th></th>\n      <th>short_name</th>\n      <th>income_group</th>\n    </tr>\n  </thead>\n  <tbody>\n    <tr>\n      <th>0</th>\n      <td>East Asia &amp; Pacific (excluding high income)</td>\n      <td>None</td>\n    </tr>\n    <tr>\n      <th>1</th>\n      <td>Europe &amp; Central Asia (excluding high income)</td>\n      <td>None</td>\n    </tr>\n    <tr>\n      <th>2</th>\n      <td>IDA only</td>\n      <td>None</td>\n    </tr>\n    <tr>\n      <th>3</th>\n      <td>Latin America &amp; Caribbean (excluding high income)</td>\n      <td>None</td>\n    </tr>\n    <tr>\n      <th>4</th>\n      <td>Least developed countries: UN classification</td>\n      <td>None</td>\n    </tr>\n  </tbody>\n</table>\n</div>"
          },
          "metadata": {}
        }
      ],
      "execution_count": null
    },
    {
      "cell_type": "markdown",
      "source": [
        "** Let's checkout lending category attribute **"
      ],
      "metadata": {
        "_uuid": "8a8e5fe5aa8e1a704124ed12384811bea1206e52",
        "_cell_guid": "6d4e5574-49dd-46bf-b111-64d8f3e49517",
        "id": "jv_ifRUWpZLk"
      }
    },
    {
      "cell_type": "code",
      "source": [
        "response1 = wbid.query_to_pandas_safe(\"SELECT distinct(lending_category) from `bigquery-public-data.world_bank_intl_debt.country_summary` \")\n",
        "response1"
      ],
      "metadata": {
        "_uuid": "fa98129e5d348beaf7d63f357210cd37740e5800",
        "_cell_guid": "02c4686a-0d19-40c6-be96-085e203ba306",
        "trusted": true,
        "execution": {
          "iopub.status.busy": "2025-05-24T14:05:35.863357Z",
          "iopub.execute_input": "2025-05-24T14:05:35.863726Z",
          "iopub.status.idle": "2025-05-24T14:05:37.49134Z",
          "shell.execute_reply.started": "2025-05-24T14:05:35.863662Z",
          "shell.execute_reply": "2025-05-24T14:05:37.490539Z"
        },
        "id": "_1BAeyK9pZLk",
        "outputId": "1e2e2e39-b686-4a49-a8f6-9349dd875e2e"
      },
      "outputs": [
        {
          "execution_count": 36,
          "output_type": "execute_result",
          "data": {
            "text/plain": "  lending_category\n0             None\n1            Blend\n2             IBRD\n3              IDA",
            "text/html": "<div>\n<style scoped>\n    .dataframe tbody tr th:only-of-type {\n        vertical-align: middle;\n    }\n\n    .dataframe tbody tr th {\n        vertical-align: top;\n    }\n\n    .dataframe thead th {\n        text-align: right;\n    }\n</style>\n<table border=\"1\" class=\"dataframe\">\n  <thead>\n    <tr style=\"text-align: right;\">\n      <th></th>\n      <th>lending_category</th>\n    </tr>\n  </thead>\n  <tbody>\n    <tr>\n      <th>0</th>\n      <td>None</td>\n    </tr>\n    <tr>\n      <th>1</th>\n      <td>Blend</td>\n    </tr>\n    <tr>\n      <th>2</th>\n      <td>IBRD</td>\n    </tr>\n    <tr>\n      <th>3</th>\n      <td>IDA</td>\n    </tr>\n  </tbody>\n</table>\n</div>"
          },
          "metadata": {}
        }
      ],
      "execution_count": null
    },
    {
      "cell_type": "markdown",
      "source": [],
      "metadata": {
        "_uuid": "0f15b82376219a285803ce1529c8b362894e08c5",
        "_cell_guid": "a8dbc4bb-e040-48ce-ac28-0367400e3932",
        "id": "BY6083u7pZLp"
      }
    },
    {
      "cell_type": "code",
      "source": [
        "country_summary = wbid.query_to_pandas_safe(\"SELECT * from `bigquery-public-data.world_bank_intl_debt.country_summary` \")\n",
        "country_summary.head()"
      ],
      "metadata": {
        "_uuid": "fdb5510126234d54c83dd6ecdcee181babb3fc76",
        "_cell_guid": "4a0b59db-ff6b-4d2a-85b7-fcf85b0fdc61",
        "trusted": true,
        "execution": {
          "iopub.status.busy": "2025-05-24T14:05:37.492566Z",
          "iopub.execute_input": "2025-05-24T14:05:37.49283Z",
          "iopub.status.idle": "2025-05-24T14:05:39.259132Z",
          "shell.execute_reply.started": "2025-05-24T14:05:37.492778Z",
          "shell.execute_reply": "2025-05-24T14:05:39.258182Z"
        },
        "id": "Hv0NrDpqpZLp",
        "outputId": "ccd38a39-aa75-468a-9639-2cd08d4542a2"
      },
      "outputs": [
        {
          "execution_count": 37,
          "output_type": "execute_result",
          "data": {
            "text/plain": "  country_code             ...              latest_water_withdrawal_data\n0          EAP             ...                                      None\n1          ECA             ...                                      None\n2          IDX             ...                                      None\n3          LAC             ...                                      None\n4          LDC             ...                                      None\n\n[5 rows x 31 columns]",
            "text/html": "<div>\n<style scoped>\n    .dataframe tbody tr th:only-of-type {\n        vertical-align: middle;\n    }\n\n    .dataframe tbody tr th {\n        vertical-align: top;\n    }\n\n    .dataframe thead th {\n        text-align: right;\n    }\n</style>\n<table border=\"1\" class=\"dataframe\">\n  <thead>\n    <tr style=\"text-align: right;\">\n      <th></th>\n      <th>country_code</th>\n      <th>short_name</th>\n      <th>table_name</th>\n      <th>long_name</th>\n      <th>two_alpha_code</th>\n      <th>currency_unit</th>\n      <th>special_notes</th>\n      <th>region</th>\n      <th>income_group</th>\n      <th>wb_2_code</th>\n      <th>national_accounts_base_year</th>\n      <th>national_accounts_reference_year</th>\n      <th>sna_price_valuation</th>\n      <th>lending_category</th>\n      <th>other_groups</th>\n      <th>system_of_national_accounts</th>\n      <th>alternative_conversion_factor</th>\n      <th>ppp_survey_year</th>\n      <th>balance_of_payments_manual_in_use</th>\n      <th>external_debt_reporting_status</th>\n      <th>system_of_trade</th>\n      <th>government_accounting_concept</th>\n      <th>imf_data_dissemination_standard</th>\n      <th>latest_population_census</th>\n      <th>latest_household_survey</th>\n      <th>source_of_most_recent_Income_and_expenditure_data</th>\n      <th>vital_registration_complete</th>\n      <th>latest_agricultural_census</th>\n      <th>latest_industrial_data</th>\n      <th>latest_trade_data</th>\n      <th>latest_water_withdrawal_data</th>\n    </tr>\n  </thead>\n  <tbody>\n    <tr>\n      <th>0</th>\n      <td>EAP</td>\n      <td>East Asia &amp; Pacific (excluding high income)</td>\n      <td>East Asia &amp; Pacific (excluding high income)</td>\n      <td>East Asia &amp; Pacific (excluding high income)</td>\n      <td>4E</td>\n      <td>None</td>\n      <td>East Asia and Pacific regional aggregate (does...</td>\n      <td>None</td>\n      <td>None</td>\n      <td>4E</td>\n      <td>None</td>\n      <td>None</td>\n      <td>None</td>\n      <td>None</td>\n      <td>None</td>\n      <td>None</td>\n      <td>None</td>\n      <td>None</td>\n      <td>None</td>\n      <td>None</td>\n      <td>None</td>\n      <td>None</td>\n      <td>None</td>\n      <td>None</td>\n      <td>None</td>\n      <td>None</td>\n      <td>None</td>\n      <td>None</td>\n      <td>NaN</td>\n      <td>NaN</td>\n      <td>None</td>\n    </tr>\n    <tr>\n      <th>1</th>\n      <td>ECA</td>\n      <td>Europe &amp; Central Asia (excluding high income)</td>\n      <td>Europe &amp; Central Asia (excluding high income)</td>\n      <td>Europe &amp; Central Asia (excluding high income)</td>\n      <td>7E</td>\n      <td>None</td>\n      <td>Europe and Central Asia regional aggregate (do...</td>\n      <td>None</td>\n      <td>None</td>\n      <td>7E</td>\n      <td>None</td>\n      <td>None</td>\n      <td>None</td>\n      <td>None</td>\n      <td>None</td>\n      <td>None</td>\n      <td>None</td>\n      <td>None</td>\n      <td>None</td>\n      <td>None</td>\n      <td>None</td>\n      <td>None</td>\n      <td>None</td>\n      <td>None</td>\n      <td>None</td>\n      <td>None</td>\n      <td>None</td>\n      <td>None</td>\n      <td>NaN</td>\n      <td>NaN</td>\n      <td>None</td>\n    </tr>\n    <tr>\n      <th>2</th>\n      <td>IDX</td>\n      <td>IDA only</td>\n      <td>IDA only</td>\n      <td>IDA only</td>\n      <td>XI</td>\n      <td>None</td>\n      <td>IDA only group aggregate.</td>\n      <td>None</td>\n      <td>None</td>\n      <td>XI</td>\n      <td>None</td>\n      <td>None</td>\n      <td>None</td>\n      <td>None</td>\n      <td>None</td>\n      <td>None</td>\n      <td>None</td>\n      <td>None</td>\n      <td>None</td>\n      <td>None</td>\n      <td>None</td>\n      <td>None</td>\n      <td>None</td>\n      <td>None</td>\n      <td>None</td>\n      <td>None</td>\n      <td>None</td>\n      <td>None</td>\n      <td>NaN</td>\n      <td>NaN</td>\n      <td>None</td>\n    </tr>\n    <tr>\n      <th>3</th>\n      <td>LAC</td>\n      <td>Latin America &amp; Caribbean (excluding high income)</td>\n      <td>Latin America &amp; Caribbean (excluding high income)</td>\n      <td>Latin America &amp; Caribbean (excluding high income)</td>\n      <td>XJ</td>\n      <td>None</td>\n      <td>Latin America and Caribbean regional aggregate...</td>\n      <td>None</td>\n      <td>None</td>\n      <td>XJ</td>\n      <td>None</td>\n      <td>None</td>\n      <td>None</td>\n      <td>None</td>\n      <td>None</td>\n      <td>None</td>\n      <td>None</td>\n      <td>None</td>\n      <td>None</td>\n      <td>None</td>\n      <td>None</td>\n      <td>None</td>\n      <td>None</td>\n      <td>None</td>\n      <td>None</td>\n      <td>None</td>\n      <td>None</td>\n      <td>None</td>\n      <td>NaN</td>\n      <td>NaN</td>\n      <td>None</td>\n    </tr>\n    <tr>\n      <th>4</th>\n      <td>LDC</td>\n      <td>Least developed countries: UN classification</td>\n      <td>Least developed countries: UN classification</td>\n      <td>Least developed countries: UN classification</td>\n      <td>XL</td>\n      <td>None</td>\n      <td>Least developed countries (UN classification) ...</td>\n      <td>None</td>\n      <td>None</td>\n      <td>XL</td>\n      <td>None</td>\n      <td>None</td>\n      <td>None</td>\n      <td>None</td>\n      <td>None</td>\n      <td>None</td>\n      <td>None</td>\n      <td>None</td>\n      <td>None</td>\n      <td>None</td>\n      <td>None</td>\n      <td>None</td>\n      <td>None</td>\n      <td>None</td>\n      <td>None</td>\n      <td>None</td>\n      <td>None</td>\n      <td>None</td>\n      <td>NaN</td>\n      <td>NaN</td>\n      <td>None</td>\n    </tr>\n  </tbody>\n</table>\n</div>"
          },
          "metadata": {}
        }
      ],
      "execution_count": null
    },
    {
      "cell_type": "markdown",
      "source": [
        "It is pretty evident that regions have no lending category. So, we'll segregate countries and regions."
      ],
      "metadata": {
        "_uuid": "52840690b19d678d61843fbaa5d1440474477ac8",
        "_cell_guid": "9f728dda-c1da-4ecf-a66e-d0b5dcb21a72",
        "id": "T2kDhTpOpZLp"
      }
    },
    {
      "cell_type": "markdown",
      "source": [
        "** Segregating countries and regions so we can analyze them better **"
      ],
      "metadata": {
        "_uuid": "3dc2ad9d854974860542cd1051d9925b9d1742ce",
        "_cell_guid": "520b0d28-de83-4372-a205-5f5ee57c384d",
        "id": "gGVSRDVjpZLp"
      }
    },
    {
      "cell_type": "code",
      "source": [
        "countries_details = country_summary.drop(country_summary[country_summary['region'] == ''].index).reset_index().drop(['index'], axis = 1)"
      ],
      "metadata": {
        "_uuid": "d9f6e1211b4f93fe2a28c3aaa273652388f46b02",
        "_cell_guid": "22b257cf-cd4f-40c9-acdd-363c0da2aa24",
        "trusted": true,
        "execution": {
          "iopub.status.busy": "2025-05-24T14:05:39.260557Z",
          "iopub.execute_input": "2025-05-24T14:05:39.260936Z",
          "iopub.status.idle": "2025-05-24T14:05:39.272265Z",
          "shell.execute_reply.started": "2025-05-24T14:05:39.260867Z",
          "shell.execute_reply": "2025-05-24T14:05:39.27136Z"
        },
        "id": "2TVycc5GpZLp"
      },
      "outputs": [],
      "execution_count": null
    },
    {
      "cell_type": "code",
      "source": [
        "## countries_datails contains details of countries only\n",
        "countries_details.head()"
      ],
      "metadata": {
        "_uuid": "06b0b06315a9d8dab2ab34c2f8027df0cac40c96",
        "_cell_guid": "1055acc5-ee8e-4b8e-899f-56785843d0a2",
        "trusted": true,
        "execution": {
          "iopub.status.busy": "2025-05-24T14:05:39.273682Z",
          "iopub.execute_input": "2025-05-24T14:05:39.274031Z",
          "iopub.status.idle": "2025-05-24T14:05:39.345408Z",
          "shell.execute_reply.started": "2025-05-24T14:05:39.273968Z",
          "shell.execute_reply": "2025-05-24T14:05:39.344434Z"
        },
        "id": "jHwYybXbpZLp",
        "outputId": "f79b6291-de6b-4965-dead-af5963423b90"
      },
      "outputs": [
        {
          "execution_count": 39,
          "output_type": "execute_result",
          "data": {
            "text/plain": "  country_code             ...              latest_water_withdrawal_data\n0          EAP             ...                                      None\n1          ECA             ...                                      None\n2          IDX             ...                                      None\n3          LAC             ...                                      None\n4          LDC             ...                                      None\n\n[5 rows x 31 columns]",
            "text/html": "<div>\n<style scoped>\n    .dataframe tbody tr th:only-of-type {\n        vertical-align: middle;\n    }\n\n    .dataframe tbody tr th {\n        vertical-align: top;\n    }\n\n    .dataframe thead th {\n        text-align: right;\n    }\n</style>\n<table border=\"1\" class=\"dataframe\">\n  <thead>\n    <tr style=\"text-align: right;\">\n      <th></th>\n      <th>country_code</th>\n      <th>short_name</th>\n      <th>table_name</th>\n      <th>long_name</th>\n      <th>two_alpha_code</th>\n      <th>currency_unit</th>\n      <th>special_notes</th>\n      <th>region</th>\n      <th>income_group</th>\n      <th>wb_2_code</th>\n      <th>national_accounts_base_year</th>\n      <th>national_accounts_reference_year</th>\n      <th>sna_price_valuation</th>\n      <th>lending_category</th>\n      <th>other_groups</th>\n      <th>system_of_national_accounts</th>\n      <th>alternative_conversion_factor</th>\n      <th>ppp_survey_year</th>\n      <th>balance_of_payments_manual_in_use</th>\n      <th>external_debt_reporting_status</th>\n      <th>system_of_trade</th>\n      <th>government_accounting_concept</th>\n      <th>imf_data_dissemination_standard</th>\n      <th>latest_population_census</th>\n      <th>latest_household_survey</th>\n      <th>source_of_most_recent_Income_and_expenditure_data</th>\n      <th>vital_registration_complete</th>\n      <th>latest_agricultural_census</th>\n      <th>latest_industrial_data</th>\n      <th>latest_trade_data</th>\n      <th>latest_water_withdrawal_data</th>\n    </tr>\n  </thead>\n  <tbody>\n    <tr>\n      <th>0</th>\n      <td>EAP</td>\n      <td>East Asia &amp; Pacific (excluding high income)</td>\n      <td>East Asia &amp; Pacific (excluding high income)</td>\n      <td>East Asia &amp; Pacific (excluding high income)</td>\n      <td>4E</td>\n      <td>None</td>\n      <td>East Asia and Pacific regional aggregate (does...</td>\n      <td>None</td>\n      <td>None</td>\n      <td>4E</td>\n      <td>None</td>\n      <td>None</td>\n      <td>None</td>\n      <td>None</td>\n      <td>None</td>\n      <td>None</td>\n      <td>None</td>\n      <td>None</td>\n      <td>None</td>\n      <td>None</td>\n      <td>None</td>\n      <td>None</td>\n      <td>None</td>\n      <td>None</td>\n      <td>None</td>\n      <td>None</td>\n      <td>None</td>\n      <td>None</td>\n      <td>NaN</td>\n      <td>NaN</td>\n      <td>None</td>\n    </tr>\n    <tr>\n      <th>1</th>\n      <td>ECA</td>\n      <td>Europe &amp; Central Asia (excluding high income)</td>\n      <td>Europe &amp; Central Asia (excluding high income)</td>\n      <td>Europe &amp; Central Asia (excluding high income)</td>\n      <td>7E</td>\n      <td>None</td>\n      <td>Europe and Central Asia regional aggregate (do...</td>\n      <td>None</td>\n      <td>None</td>\n      <td>7E</td>\n      <td>None</td>\n      <td>None</td>\n      <td>None</td>\n      <td>None</td>\n      <td>None</td>\n      <td>None</td>\n      <td>None</td>\n      <td>None</td>\n      <td>None</td>\n      <td>None</td>\n      <td>None</td>\n      <td>None</td>\n      <td>None</td>\n      <td>None</td>\n      <td>None</td>\n      <td>None</td>\n      <td>None</td>\n      <td>None</td>\n      <td>NaN</td>\n      <td>NaN</td>\n      <td>None</td>\n    </tr>\n    <tr>\n      <th>2</th>\n      <td>IDX</td>\n      <td>IDA only</td>\n      <td>IDA only</td>\n      <td>IDA only</td>\n      <td>XI</td>\n      <td>None</td>\n      <td>IDA only group aggregate.</td>\n      <td>None</td>\n      <td>None</td>\n      <td>XI</td>\n      <td>None</td>\n      <td>None</td>\n      <td>None</td>\n      <td>None</td>\n      <td>None</td>\n      <td>None</td>\n      <td>None</td>\n      <td>None</td>\n      <td>None</td>\n      <td>None</td>\n      <td>None</td>\n      <td>None</td>\n      <td>None</td>\n      <td>None</td>\n      <td>None</td>\n      <td>None</td>\n      <td>None</td>\n      <td>None</td>\n      <td>NaN</td>\n      <td>NaN</td>\n      <td>None</td>\n    </tr>\n    <tr>\n      <th>3</th>\n      <td>LAC</td>\n      <td>Latin America &amp; Caribbean (excluding high income)</td>\n      <td>Latin America &amp; Caribbean (excluding high income)</td>\n      <td>Latin America &amp; Caribbean (excluding high income)</td>\n      <td>XJ</td>\n      <td>None</td>\n      <td>Latin America and Caribbean regional aggregate...</td>\n      <td>None</td>\n      <td>None</td>\n      <td>XJ</td>\n      <td>None</td>\n      <td>None</td>\n      <td>None</td>\n      <td>None</td>\n      <td>None</td>\n      <td>None</td>\n      <td>None</td>\n      <td>None</td>\n      <td>None</td>\n      <td>None</td>\n      <td>None</td>\n      <td>None</td>\n      <td>None</td>\n      <td>None</td>\n      <td>None</td>\n      <td>None</td>\n      <td>None</td>\n      <td>None</td>\n      <td>NaN</td>\n      <td>NaN</td>\n      <td>None</td>\n    </tr>\n    <tr>\n      <th>4</th>\n      <td>LDC</td>\n      <td>Least developed countries: UN classification</td>\n      <td>Least developed countries: UN classification</td>\n      <td>Least developed countries: UN classification</td>\n      <td>XL</td>\n      <td>None</td>\n      <td>Least developed countries (UN classification) ...</td>\n      <td>None</td>\n      <td>None</td>\n      <td>XL</td>\n      <td>None</td>\n      <td>None</td>\n      <td>None</td>\n      <td>None</td>\n      <td>None</td>\n      <td>None</td>\n      <td>None</td>\n      <td>None</td>\n      <td>None</td>\n      <td>None</td>\n      <td>None</td>\n      <td>None</td>\n      <td>None</td>\n      <td>None</td>\n      <td>None</td>\n      <td>None</td>\n      <td>None</td>\n      <td>None</td>\n      <td>NaN</td>\n      <td>NaN</td>\n      <td>None</td>\n    </tr>\n  </tbody>\n</table>\n</div>"
          },
          "metadata": {}
        }
      ],
      "execution_count": null
    },
    {
      "cell_type": "code",
      "source": [
        "countries_details['lending_category'].unique()"
      ],
      "metadata": {
        "_uuid": "94b05284546800cf4bb42ec14fe2a515bf5c0974",
        "_cell_guid": "7ce9a781-5a65-4f88-81aa-3940f5b63e31",
        "trusted": true,
        "execution": {
          "iopub.status.busy": "2025-05-24T14:05:39.346786Z",
          "iopub.execute_input": "2025-05-24T14:05:39.347165Z",
          "iopub.status.idle": "2025-05-24T14:05:39.358183Z",
          "shell.execute_reply.started": "2025-05-24T14:05:39.347006Z",
          "shell.execute_reply": "2025-05-24T14:05:39.357301Z"
        },
        "id": "ztwPuaj9pZLp",
        "outputId": "e9c67b4c-28cb-4874-ab87-843aabe87895"
      },
      "outputs": [
        {
          "execution_count": 40,
          "output_type": "execute_result",
          "data": {
            "text/plain": "array([None, 'Blend', 'IBRD', 'IDA'], dtype=object)"
          },
          "metadata": {}
        }
      ],
      "execution_count": null
    },
    {
      "cell_type": "markdown",
      "source": [
        "Hurray! no more blank attribute"
      ],
      "metadata": {
        "_uuid": "47118df0592f7f1addb270d50464b3cd405a87eb",
        "_cell_guid": "f543b0f5-f2af-4e65-ac09-75ad56e22fa2",
        "id": "Ifxn8tBppZLp"
      }
    },
    {
      "cell_type": "code",
      "source": [
        "lending_details = countries_details.groupby('lending_category').count().reset_index()\n",
        "lending_details = lending_details[['lending_category', 'country_code']]\n",
        "lending_details.columns= ['lending_category', 'total_number_of_countries']\n",
        "sns.barplot(x = 'lending_category', y = 'total_number_of_countries', data = lending_details)\n",
        "plt.show()"
      ],
      "metadata": {
        "_uuid": "c7675d3e9a8f74a0ac33a5f8e6a45829f05ecd80",
        "_cell_guid": "af38b141-329e-4607-8f31-f7824ebc4806",
        "trusted": true,
        "execution": {
          "iopub.status.busy": "2025-05-24T14:05:39.35969Z",
          "iopub.execute_input": "2025-05-24T14:05:39.360051Z",
          "iopub.status.idle": "2025-05-24T14:05:39.480768Z",
          "shell.execute_reply.started": "2025-05-24T14:05:39.359973Z",
          "shell.execute_reply": "2025-05-24T14:05:39.479627Z"
        },
        "id": "Op1wsGbupZLp",
        "outputId": "71b22b43-bd50-4879-edea-21b86c418a64"
      },
      "outputs": [
        {
          "output_type": "display_data",
          "data": {
            "text/plain": "<matplotlib.figure.Figure at 0x79de3da2a3c8>",
            "image/png": "[encoded data removed]"
          },
          "metadata": {}
        }
      ],
      "execution_count": null
    },
    {
      "cell_type": "markdown",
      "source": [
        "** Two major lending types are IBRD and IDA. **\n",
        "\n",
        "Let's understand what system of trade most of the countries use."
      ],
      "metadata": {
        "_uuid": "825439a26fd59ef7b107e4209737500cc21d29b5",
        "_cell_guid": "0a11f22d-c6fc-4227-8831-1886c9448ebe",
        "id": "WrGl8-DYpZLp"
      }
    },
    {
      "cell_type": "code",
      "source": [
        "## Assign black column value undefine\n",
        "countries_details.loc[countries_details['system_of_trade'] == '', 'system_of_trade'] = 'undefined'\n",
        "countries_details['system_of_trade'].unique()"
      ],
      "metadata": {
        "_uuid": "df7520a76828c017bad3a529eb8ff8d3217ccd09",
        "_cell_guid": "3fdcf597-58db-4064-8663-7a6c0662dc49",
        "trusted": true,
        "execution": {
          "iopub.status.busy": "2025-05-24T14:05:39.482304Z",
          "iopub.execute_input": "2025-05-24T14:05:39.482711Z",
          "iopub.status.idle": "2025-05-24T14:05:39.497037Z",
          "shell.execute_reply.started": "2025-05-24T14:05:39.482639Z",
          "shell.execute_reply": "2025-05-24T14:05:39.496081Z"
        },
        "id": "tqG6rkpnpZLp",
        "outputId": "1f07a1f3-2ba0-4f1f-f2e9-b9bc65c9b9db"
      },
      "outputs": [
        {
          "execution_count": 42,
          "output_type": "execute_result",
          "data": {
            "text/plain": "array([None, 'General trade system', 'Special trade system'], dtype=object)"
          },
          "metadata": {}
        }
      ],
      "execution_count": null
    },
    {
      "cell_type": "code",
      "source": [
        "trading_details = countries_details.groupby('system_of_trade').count().reset_index()\n",
        "trading_details = trading_details[['system_of_trade', 'country_code']]\n",
        "trading_details.columns= ['system_of_trade', 'total_number_of_countries']\n",
        "sns.barplot(x = 'system_of_trade', y = 'total_number_of_countries', data = trading_details)\n",
        "plt.show()"
      ],
      "metadata": {
        "_uuid": "2df9ad10ca64c512ad50edf285fb0e6d695b4e17",
        "_cell_guid": "6db5ae84-a3af-41eb-898a-4b840c12f5e5",
        "trusted": true,
        "execution": {
          "iopub.status.busy": "2025-05-24T14:05:39.498514Z",
          "iopub.execute_input": "2025-05-24T14:05:39.498816Z",
          "iopub.status.idle": "2025-05-24T14:05:39.631509Z",
          "shell.execute_reply.started": "2025-05-24T14:05:39.498757Z",
          "shell.execute_reply": "2025-05-24T14:05:39.630671Z"
        },
        "id": "pM52jc1LpZLq",
        "outputId": "f21aa4e4-30f8-4a04-8d46-30ee0ae14c3f"
      },
      "outputs": [
        {
          "output_type": "display_data",
          "data": {
            "text/plain": "<matplotlib.figure.Figure at 0x79de3da2a9b0>",
            "image/png": "[encoded data removed]"
          },
          "metadata": {}
        }
      ],
      "execution_count": null
    },
    {
      "cell_type": "code",
      "source": [
        "special_trade_countries = countries_details[countries_details['system_of_trade'] == 'Special trade system'][['country_code', 'short_name', 'region']]\n",
        "special_trade_countries.head()"
      ],
      "metadata": {
        "_uuid": "0c4bec038488488a04fa2ad839f89beeabbe1e0e",
        "_cell_guid": "ca11368c-5e7a-4090-b0ca-ee809708304c",
        "trusted": true,
        "execution": {
          "iopub.status.busy": "2025-05-24T14:05:39.632779Z",
          "iopub.execute_input": "2025-05-24T14:05:39.633125Z",
          "iopub.status.idle": "2025-05-24T14:05:39.659179Z",
          "shell.execute_reply.started": "2025-05-24T14:05:39.633064Z",
          "shell.execute_reply": "2025-05-24T14:05:39.658244Z"
        },
        "id": "zn2S2T5-pZLq",
        "outputId": "5e869396-3832-47c6-bf6a-a9f16ccf0fc6"
      },
      "outputs": [
        {
          "execution_count": 44,
          "output_type": "execute_result",
          "data": {
            "text/plain": "   country_code            ...                                 region\n19          DMA            ...              Latin America & Caribbean\n20          GRD            ...              Latin America & Caribbean\n22          VCT            ...              Latin America & Caribbean\n24          CMR            ...                     Sub-Saharan Africa\n25          COG            ...                     Sub-Saharan Africa\n\n[5 rows x 3 columns]",
            "text/html": "<div>\n<style scoped>\n    .dataframe tbody tr th:only-of-type {\n        vertical-align: middle;\n    }\n\n    .dataframe tbody tr th {\n        vertical-align: top;\n    }\n\n    .dataframe thead th {\n        text-align: right;\n    }\n</style>\n<table border=\"1\" class=\"dataframe\">\n  <thead>\n    <tr style=\"text-align: right;\">\n      <th></th>\n      <th>country_code</th>\n      <th>short_name</th>\n      <th>region</th>\n    </tr>\n  </thead>\n  <tbody>\n    <tr>\n      <th>19</th>\n      <td>DMA</td>\n      <td>Dominica</td>\n      <td>Latin America &amp; Caribbean</td>\n    </tr>\n    <tr>\n      <th>20</th>\n      <td>GRD</td>\n      <td>Grenada</td>\n      <td>Latin America &amp; Caribbean</td>\n    </tr>\n    <tr>\n      <th>22</th>\n      <td>VCT</td>\n      <td>St. Vincent and the Grenadines</td>\n      <td>Latin America &amp; Caribbean</td>\n    </tr>\n    <tr>\n      <th>24</th>\n      <td>CMR</td>\n      <td>Cameroon</td>\n      <td>Sub-Saharan Africa</td>\n    </tr>\n    <tr>\n      <th>25</th>\n      <td>COG</td>\n      <td>Congo</td>\n      <td>Sub-Saharan Africa</td>\n    </tr>\n  </tbody>\n</table>\n</div>"
          },
          "metadata": {}
        }
      ],
      "execution_count": null
    },
    {
      "cell_type": "code",
      "source": [
        "special_trade_countries_region_wise = special_trade_countries.groupby(['region']).count().reset_index()\n",
        "special_trade_countries_region_wise.drop(['short_name'], axis = 1, inplace=True)\n",
        "special_trade_countries_region_wise.columns = ['region', 'number_of_countries']"
      ],
      "metadata": {
        "_uuid": "24b147df7f32be292bb76c8b062c74c8cb8a862c",
        "_cell_guid": "6fbf905b-6583-431e-8e30-a6e1ccc63202",
        "trusted": true,
        "execution": {
          "iopub.status.busy": "2025-05-24T14:05:39.660555Z",
          "iopub.execute_input": "2025-05-24T14:05:39.660917Z",
          "iopub.status.idle": "2025-05-24T14:05:39.676622Z",
          "shell.execute_reply.started": "2025-05-24T14:05:39.660851Z",
          "shell.execute_reply": "2025-05-24T14:05:39.675642Z"
        },
        "id": "SGsfM0y7pZLq"
      },
      "outputs": [],
      "execution_count": null
    },
    {
      "cell_type": "code",
      "source": [
        "a4_dims = (25.7, 6.27)\n",
        "fig, ax = plt.subplots(figsize=a4_dims)\n",
        "sns.barplot('region', 'number_of_countries', data=special_trade_countries_region_wise)\n",
        "plt.show()"
      ],
      "metadata": {
        "_uuid": "acc6365cb6f48a70f95c423a2b9cb7279c5148c8",
        "_cell_guid": "19e6c4e7-6c87-4040-adea-b0b758471c2a",
        "trusted": true,
        "execution": {
          "iopub.status.busy": "2025-05-24T14:05:39.677958Z",
          "iopub.execute_input": "2025-05-24T14:05:39.678226Z",
          "iopub.status.idle": "2025-05-24T14:05:39.900775Z",
          "shell.execute_reply.started": "2025-05-24T14:05:39.67819Z",
          "shell.execute_reply": "2025-05-24T14:05:39.899958Z"
        },
        "id": "6c7I0KOspZLq",
        "outputId": "f56832b8-7b06-44e4-b68a-0e799697e789"
      },
      "outputs": [
        {
          "output_type": "display_data",
          "data": {
            "text/plain": "<matplotlib.figure.Figure at 0x79de414844e0>",
            "image/png": "[encoded data removed]"
          },
          "metadata": {}
        }
      ],
      "execution_count": null
    },
    {
      "cell_type": "markdown",
      "source": [
        "** Most of the countries engaged in special trade are from `Latin America & Caribbean` and `Sub-Saharan Africa` **\n",
        "\n",
        "Moving further let's check government accounting concept countries are using"
      ],
      "metadata": {
        "_uuid": "c9d12e1f2e11a2ac391dbd6953f2d1c135b092f0",
        "_cell_guid": "c2f2a1ae-9191-4dce-8d31-09e71b0b0f16",
        "id": "FtiZB3NKpZLq"
      }
    },
    {
      "cell_type": "code",
      "source": [
        "countries_details['government_accounting_concept'].unique()"
      ],
      "metadata": {
        "_uuid": "9cd301cd829625d10e31a4018f1be2b0a9717bfe",
        "_cell_guid": "24d46169-e522-4379-9f81-e9f97fde84ca",
        "trusted": true,
        "execution": {
          "iopub.status.busy": "2025-05-24T14:05:39.901874Z",
          "iopub.execute_input": "2025-05-24T14:05:39.902148Z",
          "iopub.status.idle": "2025-05-24T14:05:39.908608Z",
          "shell.execute_reply.started": "2025-05-24T14:05:39.902097Z",
          "shell.execute_reply": "2025-05-24T14:05:39.907574Z"
        },
        "id": "NYx-ect5pZLq",
        "outputId": "bb512748-b3a5-4073-963b-cd4f6d89b085"
      },
      "outputs": [
        {
          "execution_count": 47,
          "output_type": "execute_result",
          "data": {
            "text/plain": "array([None, 'Budgetary central government',\n       'Consolidated central government'], dtype=object)"
          },
          "metadata": {}
        }
      ],
      "execution_count": null
    },
    {
      "cell_type": "code",
      "source": [
        "## Assign black column value to undefine\n",
        "countries_details.loc[countries_details['government_accounting_concept'] == '', 'government_accounting_concept'] = 'undefined'"
      ],
      "metadata": {
        "_uuid": "3e66dbb267e6554c62df5ab3d5f8ed672e2c3464",
        "_cell_guid": "50641b13-686c-4fe4-90c3-7da4b47808dc",
        "trusted": true,
        "execution": {
          "iopub.status.busy": "2025-05-24T14:05:39.909793Z",
          "iopub.execute_input": "2025-05-24T14:05:39.910111Z",
          "iopub.status.idle": "2025-05-24T14:05:39.92787Z",
          "shell.execute_reply.started": "2025-05-24T14:05:39.910061Z",
          "shell.execute_reply": "2025-05-24T14:05:39.926831Z"
        },
        "id": "Q78UaQlApZLq"
      },
      "outputs": [],
      "execution_count": null
    },
    {
      "cell_type": "code",
      "source": [
        "a4_dims = (10.7, 4.27)\n",
        "fig, ax = plt.subplots(figsize=a4_dims)\n",
        "gove_accounting_details = countries_details.groupby('government_accounting_concept').count().reset_index()\n",
        "gove_accounting_details = gove_accounting_details[['government_accounting_concept', 'country_code']]\n",
        "gove_accounting_details.columns= ['government_accounting_concept', 'total_number_of_countries']\n",
        "sns.barplot(x = 'government_accounting_concept', y = 'total_number_of_countries', data = gove_accounting_details)\n",
        "plt.show()"
      ],
      "metadata": {
        "_uuid": "0abadec465da7400d222f097c5b6f53edf35342f",
        "_cell_guid": "370104ac-e4f6-42f4-b550-fa6f095797fa",
        "trusted": true,
        "execution": {
          "iopub.status.busy": "2025-05-24T14:05:39.929589Z",
          "iopub.execute_input": "2025-05-24T14:05:39.929945Z",
          "iopub.status.idle": "2025-05-24T14:05:40.066571Z",
          "shell.execute_reply.started": "2025-05-24T14:05:39.929875Z",
          "shell.execute_reply": "2025-05-24T14:05:40.065534Z"
        },
        "id": "DPEmX5ROpZLq",
        "outputId": "a1ec8add-e505-4733-cc4f-18eacc61e860"
      },
      "outputs": [
        {
          "output_type": "display_data",
          "data": {
            "text/plain": "<matplotlib.figure.Figure at 0x79de3d975550>",
            "image/png": "[encoded data removed]"
          },
          "metadata": {}
        }
      ],
      "execution_count": null
    },
    {
      "cell_type": "markdown",
      "source": [
        "- The number of countries using each type of IMF data dissemination standard is equal.\n",
        "\n",
        "\n",
        "Investigate which countries adopt specific IMF data dissemination standards."
      ],
      "metadata": {
        "_uuid": "40a1b3b08b6faa56b1586d6d8cdac45422c323ff",
        "_cell_guid": "621f0b19-d946-443e-aca3-e97aa0df6ead",
        "id": "lftvcqxJpZLq"
      }
    },
    {
      "cell_type": "code",
      "source": [
        "countries_details.loc[countries_details['imf_data_dissemination_standard'] == '', 'imf_data_dissemination_standard'] = 'undefined'"
      ],
      "metadata": {
        "_uuid": "475930dc86553a4eb888712bbefc4b39df954820",
        "_cell_guid": "e70c9959-8fbe-42ec-82ce-fbe7ea55039a",
        "trusted": true,
        "execution": {
          "iopub.status.busy": "2025-05-24T14:14:05.579471Z",
          "iopub.execute_input": "2025-05-24T14:14:05.579784Z",
          "iopub.status.idle": "2025-05-24T14:14:05.588628Z",
          "shell.execute_reply.started": "2025-05-24T14:14:05.579734Z",
          "shell.execute_reply": "2025-05-24T14:14:05.587415Z"
        },
        "id": "NHYM0I7spZLq"
      },
      "outputs": [],
      "execution_count": null
    },
    {
      "cell_type": "code",
      "source": [
        "\n",
        "a4_dims = (25.7, 6.27)\n",
        "fig, ax = plt.subplots(figsize=a4_dims)\n",
        "imf_data_dissemination_standard_details = countries_details.groupby('imf_data_dissemination_standard').count().reset_index()\n",
        "imf_data_dissemination_standard_details  = imf_data_dissemination_standard_details [['imf_data_dissemination_standard', 'country_code']]\n",
        "imf_data_dissemination_standard_details .columns= ['imf_data_dissemination_standard', 'total_number_of_countries']\n",
        "sns.barplot(x = 'imf_data_dissemination_standard', y = 'total_number_of_countries', data = imf_data_dissemination_standard_details)\n",
        "plt.show()"
      ],
      "metadata": {
        "_uuid": "660dcda7574c0854d6c41a31303a82a3c2a93bf0",
        "_cell_guid": "1ef6ee2c-ae49-4f9d-84b0-1c5c3d7d27c6",
        "trusted": true,
        "execution": {
          "iopub.status.busy": "2025-05-24T14:05:40.078513Z",
          "iopub.execute_input": "2025-05-24T14:05:40.078892Z",
          "iopub.status.idle": "2025-05-24T14:05:40.292988Z",
          "shell.execute_reply.started": "2025-05-24T14:05:40.078827Z",
          "shell.execute_reply": "2025-05-24T14:05:40.292062Z"
        },
        "id": "vtXQEFvRpZLq",
        "outputId": "d790f1ce-1809-4715-f7b1-c9405e992f28"
      },
      "outputs": [
        {
          "output_type": "display_data",
          "data": {
            "text/plain": "<matplotlib.figure.Figure at 0x79de3d916160>",
            "image/png": "[encoded data removed]"
          },
          "metadata": {}
        }
      ],
      "execution_count": null
    },
    {
      "cell_type": "markdown",
      "source": [
        "** As we can see most of the countries are using e-GDD5 which is also the latest one\n",
        "**\n",
        "\n",
        "## International debt\n",
        "\n",
        "Let's  us now understand international debt."
      ],
      "metadata": {
        "_uuid": "ccafb8337678c96b54e7917b00f6cd19319d96d0",
        "_cell_guid": "c91facbf-91c8-42e4-af21-a075b9d40595",
        "id": "PChPLYqrpZLr"
      }
    },
    {
      "cell_type": "code",
      "source": [
        "bq_assistant.head(\"international_debt\", num_rows=5)"
      ],
      "metadata": {
        "_uuid": "f3b6c0fa567f7da3be877ca9e50217fd11dc33b0",
        "_cell_guid": "52d5364f-ecf9-42b3-b23d-d49bd38a9941",
        "trusted": true,
        "execution": {
          "iopub.status.busy": "2025-05-24T14:05:40.29426Z",
          "iopub.execute_input": "2025-05-24T14:05:40.294556Z",
          "iopub.status.idle": "2025-05-24T14:05:40.764077Z",
          "shell.execute_reply.started": "2025-05-24T14:05:40.294505Z",
          "shell.execute_reply": "2025-05-24T14:05:40.763275Z"
        },
        "id": "6ymf8qnHpZLr",
        "outputId": "97bf82ab-765b-4b42-8398-17f2d3c8bb3f"
      },
      "outputs": [
        {
          "execution_count": 52,
          "output_type": "execute_result",
          "data": {
            "text/plain": "  country_name country_code     indicator_name  indicator_code value  year\n0         Chad          TCD  GNI (current US$)  NY.GNP.MKTP.CD  None  None\n1         Chad          TCD  GNI (current US$)  NY.GNP.MKTP.CD  None  None\n2         Chad          TCD  GNI (current US$)  NY.GNP.MKTP.CD  None  None\n3         Chad          TCD  GNI (current US$)  NY.GNP.MKTP.CD  None  None\n4         Chad          TCD  GNI (current US$)  NY.GNP.MKTP.CD  None  None",
            "text/html": "<div>\n<style scoped>\n    .dataframe tbody tr th:only-of-type {\n        vertical-align: middle;\n    }\n\n    .dataframe tbody tr th {\n        vertical-align: top;\n    }\n\n    .dataframe thead th {\n        text-align: right;\n    }\n</style>\n<table border=\"1\" class=\"dataframe\">\n  <thead>\n    <tr style=\"text-align: right;\">\n      <th></th>\n      <th>country_name</th>\n      <th>country_code</th>\n      <th>indicator_name</th>\n      <th>indicator_code</th>\n      <th>value</th>\n      <th>year</th>\n    </tr>\n  </thead>\n  <tbody>\n    <tr>\n      <th>0</th>\n      <td>Chad</td>\n      <td>TCD</td>\n      <td>GNI (current US$)</td>\n      <td>NY.GNP.MKTP.CD</td>\n      <td>None</td>\n      <td>None</td>\n    </tr>\n    <tr>\n      <th>1</th>\n      <td>Chad</td>\n      <td>TCD</td>\n      <td>GNI (current US$)</td>\n      <td>NY.GNP.MKTP.CD</td>\n      <td>None</td>\n      <td>None</td>\n    </tr>\n    <tr>\n      <th>2</th>\n      <td>Chad</td>\n      <td>TCD</td>\n      <td>GNI (current US$)</td>\n      <td>NY.GNP.MKTP.CD</td>\n      <td>None</td>\n      <td>None</td>\n    </tr>\n    <tr>\n      <th>3</th>\n      <td>Chad</td>\n      <td>TCD</td>\n      <td>GNI (current US$)</td>\n      <td>NY.GNP.MKTP.CD</td>\n      <td>None</td>\n      <td>None</td>\n    </tr>\n    <tr>\n      <th>4</th>\n      <td>Chad</td>\n      <td>TCD</td>\n      <td>GNI (current US$)</td>\n      <td>NY.GNP.MKTP.CD</td>\n      <td>None</td>\n      <td>None</td>\n    </tr>\n  </tbody>\n</table>\n</div>"
          },
          "metadata": {}
        }
      ],
      "execution_count": null
    },
    {
      "cell_type": "code",
      "source": [
        "total_countries = wbid.query_to_pandas_safe(\"\"\"SELECT count(distinct(country_name)) from `bigquery-public-data.world_bank_intl_debt.international_debt`\"\"\")\n",
        "total_rows = wbid.query_to_pandas_safe(\"\"\"SELECT count(country_name) from `bigquery-public-data.world_bank_intl_debt.international_debt`\"\"\")\n",
        "total_indicators = wbid.query_to_pandas_safe(\"\"\"SELECT count(distinct(indicator_code)) from `bigquery-public-data.world_bank_intl_debt.international_debt`\"\"\")\n",
        "print('Total Number of countries are', total_countries.iloc[0,0])\n",
        "print('Total Number of indicators are', total_indicators.iloc[0,0])\n",
        "print('Total Number of rows are', total_rows.iloc[0,0])"
      ],
      "metadata": {
        "_uuid": "f8c8494e24d52ab4ec7a239250eb55761e329dd7",
        "_cell_guid": "e819d383-6c74-4c71-9331-f3235057f3ba",
        "trusted": true,
        "execution": {
          "iopub.status.busy": "2025-05-24T14:05:40.765402Z",
          "iopub.execute_input": "2025-05-24T14:05:40.765764Z",
          "iopub.status.idle": "2025-05-24T14:05:45.920932Z",
          "shell.execute_reply.started": "2025-05-24T14:05:40.765702Z",
          "shell.execute_reply": "2025-05-24T14:05:45.919937Z"
        },
        "id": "g37iPrcIpZLr",
        "outputId": "ead04483-99b6-4c69-fb84-db3555d0d83d"
      },
      "outputs": [
        {
          "name": "stdout",
          "text": "Total Number of countries are 135\nTotal Number of indicators are 497\nTotal Number of rows are 3284415\n",
          "output_type": "stream"
        }
      ],
      "execution_count": null
    },
    {
      "cell_type": "code",
      "source": [
        "bq_assistant.table_schema('international_debt')"
      ],
      "metadata": {
        "_uuid": "daf92e335f6952238e451e5d48c2247a77b607a7",
        "_cell_guid": "c57c72a3-7d43-47d6-a34e-545ec8ddf041",
        "trusted": true,
        "execution": {
          "iopub.status.busy": "2025-05-24T14:05:45.922297Z",
          "iopub.execute_input": "2025-05-24T14:05:45.922591Z",
          "iopub.status.idle": "2025-05-24T14:05:45.928658Z",
          "shell.execute_reply.started": "2025-05-24T14:05:45.92254Z",
          "shell.execute_reply": "2025-05-24T14:05:45.927577Z"
        },
        "id": "FnNZahq4pZLr",
        "outputId": "a12804fc-732a-4987-a48f-85fff9c9a111"
      },
      "outputs": [
        {
          "execution_count": 54,
          "output_type": "execute_result",
          "data": {
            "text/plain": "[SchemaField('country_name', 'STRING', 'NULLABLE', '', ()),\n SchemaField('country_code', 'STRING', 'NULLABLE', '', ()),\n SchemaField('indicator_name', 'STRING', 'NULLABLE', '', ()),\n SchemaField('indicator_code', 'STRING', 'NULLABLE', '', ()),\n SchemaField('value', 'FLOAT', 'NULLABLE', '', ()),\n SchemaField('year', 'INTEGER', 'NULLABLE', '', ())]"
          },
          "metadata": {}
        }
      ],
      "execution_count": null
    },
    {
      "cell_type": "markdown",
      "source": [
        "## Let's  check yearwise debt of each country"
      ],
      "metadata": {
        "_uuid": "add44ee37a39f4734564b0623c0f8b21f58919ca",
        "_cell_guid": "0d82bf37-d810-4284-9aea-48ade39d8869",
        "id": "QizOs9eopZLr"
      }
    },
    {
      "cell_type": "code",
      "source": [
        "total_debt = \"\"\"\n",
        "SELECT country_name, country_code, year, sum(value) from `bigquery-public-data.world_bank_intl_debt.international_debt` group by country_code, year, country_name\n",
        "\"\"\""
      ],
      "metadata": {
        "_uuid": "c327d226f0e0046a17a371a2f4c3fc1172f55510",
        "_cell_guid": "3f1125de-f57b-465d-b60a-c9d1053adbcc",
        "trusted": true,
        "execution": {
          "iopub.status.busy": "2025-05-24T14:05:45.929958Z",
          "iopub.execute_input": "2025-05-24T14:05:45.930225Z",
          "iopub.status.idle": "2025-05-24T14:05:45.946253Z",
          "shell.execute_reply.started": "2025-05-24T14:05:45.930172Z",
          "shell.execute_reply": "2025-05-24T14:05:45.945147Z"
        },
        "id": "6o4hVZd8pZLr"
      },
      "outputs": [],
      "execution_count": null
    },
    {
      "cell_type": "code",
      "source": [
        "yearwise_debt = wbid.query_to_pandas_safe(total_debt)\n",
        "yearwise_debt.columns = ['country_name', 'country_code', 'year', 'debt']\n",
        "yearwise_debt.head()"
      ],
      "metadata": {
        "_uuid": "53263279da8ced5df5156ee4e691d961541f033b",
        "_cell_guid": "c130eb4e-e381-46e4-9c31-e226a03f5e5d",
        "trusted": true,
        "execution": {
          "iopub.status.busy": "2025-05-24T14:05:45.94783Z",
          "iopub.execute_input": "2025-05-24T14:05:45.948206Z",
          "iopub.status.idle": "2025-05-24T14:05:47.644664Z",
          "shell.execute_reply.started": "2025-05-24T14:05:45.948131Z",
          "shell.execute_reply": "2025-05-24T14:05:47.643663Z"
        },
        "id": "gFDcNiA3pZLr",
        "outputId": "0a5fcb58-85c1-47c3-a8c8-759c2954cf6d"
      },
      "outputs": [
        {
          "execution_count": 56,
          "output_type": "execute_result",
          "data": {
            "text/plain": "  country_name country_code  year          debt\n0         Chad          TCD  None  2.468234e+10\n1         Fiji          FJI  None  1.362215e+10\n2         Mali          MLI  None  7.901860e+10\n3         Peru          PER  None  7.200822e+11\n4         Togo          TGO  None  3.035996e+10",
            "text/html": "<div>\n<style scoped>\n    .dataframe tbody tr th:only-of-type {\n        vertical-align: middle;\n    }\n\n    .dataframe tbody tr th {\n        vertical-align: top;\n    }\n\n    .dataframe thead th {\n        text-align: right;\n    }\n</style>\n<table border=\"1\" class=\"dataframe\">\n  <thead>\n    <tr style=\"text-align: right;\">\n      <th></th>\n      <th>country_name</th>\n      <th>country_code</th>\n      <th>year</th>\n      <th>debt</th>\n    </tr>\n  </thead>\n  <tbody>\n    <tr>\n      <th>0</th>\n      <td>Chad</td>\n      <td>TCD</td>\n      <td>None</td>\n      <td>2.468234e+10</td>\n    </tr>\n    <tr>\n      <th>1</th>\n      <td>Fiji</td>\n      <td>FJI</td>\n      <td>None</td>\n      <td>1.362215e+10</td>\n    </tr>\n    <tr>\n      <th>2</th>\n      <td>Mali</td>\n      <td>MLI</td>\n      <td>None</td>\n      <td>7.901860e+10</td>\n    </tr>\n    <tr>\n      <th>3</th>\n      <td>Peru</td>\n      <td>PER</td>\n      <td>None</td>\n      <td>7.200822e+11</td>\n    </tr>\n    <tr>\n      <th>4</th>\n      <td>Togo</td>\n      <td>TGO</td>\n      <td>None</td>\n      <td>3.035996e+10</td>\n    </tr>\n  </tbody>\n</table>\n</div>"
          },
          "metadata": {}
        }
      ],
      "execution_count": null
    },
    {
      "cell_type": "code",
      "source": [
        "yearwise_debt.info()"
      ],
      "metadata": {
        "_uuid": "0934ec65ce7b88c45231401d95aee8a362d5bf40",
        "_cell_guid": "343fa998-fd8b-488e-951e-b277ad194abb",
        "trusted": true,
        "execution": {
          "iopub.status.busy": "2025-05-24T14:05:47.645908Z",
          "iopub.execute_input": "2025-05-24T14:05:47.646154Z",
          "iopub.status.idle": "2025-05-24T14:05:47.654977Z",
          "shell.execute_reply.started": "2025-05-24T14:05:47.646105Z",
          "shell.execute_reply": "2025-05-24T14:05:47.654081Z"
        },
        "id": "U7pueL3bpZLr",
        "outputId": "271e3fd4-a0a0-463f-f2ba-a9c80d5ac218"
      },
      "outputs": [
        {
          "name": "stdout",
          "text": "<class 'pandas.core.frame.DataFrame'>\nRangeIndex: 135 entries, 0 to 134\nData columns (total 4 columns):\ncountry_name    135 non-null object\ncountry_code    135 non-null object\nyear            0 non-null object\ndebt            135 non-null float64\ndtypes: float64(1), object(3)\nmemory usage: 4.3+ KB\n",
          "output_type": "stream"
        }
      ],
      "execution_count": null
    },
    {
      "cell_type": "code",
      "source": [
        "yearwise_debt.describe()"
      ],
      "metadata": {
        "_uuid": "ecaf51686f9d5e9eaa1b1a7759a6ec1da957bef2",
        "_cell_guid": "9ff67545-8f01-46bb-a68b-c9390d82204a",
        "trusted": true,
        "execution": {
          "iopub.status.busy": "2025-05-24T14:05:47.656118Z",
          "iopub.execute_input": "2025-05-24T14:05:47.656346Z",
          "iopub.status.idle": "2025-05-24T14:05:47.685116Z",
          "shell.execute_reply.started": "2025-05-24T14:05:47.656304Z",
          "shell.execute_reply": "2025-05-24T14:05:47.684266Z"
        },
        "id": "6GXX_nmFpZLr",
        "outputId": "80e5009d-0e34-4bed-e216-6c39be125828"
      },
      "outputs": [
        {
          "execution_count": 58,
          "output_type": "execute_result",
          "data": {
            "text/plain": "               debt\ncount  1.350000e+02\nmean   2.347740e+12\nstd    8.461346e+12\nmin    1.588356e+09\n25%    3.205510e+10\n50%    1.580513e+11\n75%    7.524467e+11\nmax    6.150682e+13",
            "text/html": "<div>\n<style scoped>\n    .dataframe tbody tr th:only-of-type {\n        vertical-align: middle;\n    }\n\n    .dataframe tbody tr th {\n        vertical-align: top;\n    }\n\n    .dataframe thead th {\n        text-align: right;\n    }\n</style>\n<table border=\"1\" class=\"dataframe\">\n  <thead>\n    <tr style=\"text-align: right;\">\n      <th></th>\n      <th>debt</th>\n    </tr>\n  </thead>\n  <tbody>\n    <tr>\n      <th>count</th>\n      <td>1.350000e+02</td>\n    </tr>\n    <tr>\n      <th>mean</th>\n      <td>2.347740e+12</td>\n    </tr>\n    <tr>\n      <th>std</th>\n      <td>8.461346e+12</td>\n    </tr>\n    <tr>\n      <th>min</th>\n      <td>1.588356e+09</td>\n    </tr>\n    <tr>\n      <th>25%</th>\n      <td>3.205510e+10</td>\n    </tr>\n    <tr>\n      <th>50%</th>\n      <td>1.580513e+11</td>\n    </tr>\n    <tr>\n      <th>75%</th>\n      <td>7.524467e+11</td>\n    </tr>\n    <tr>\n      <th>max</th>\n      <td>6.150682e+13</td>\n    </tr>\n  </tbody>\n</table>\n</div>"
          },
          "metadata": {}
        }
      ],
      "execution_count": null
    },
    {
      "cell_type": "code",
      "source": [
        "## Converting year attribute to datetime datatype\n",
        "yearwise_debt['year'] = pd.to_datetime(yearwise_debt['year'], format='%Y')"
      ],
      "metadata": {
        "_uuid": "b1a6dc4382124f8283102680b54f3bc361f31a0b",
        "_cell_guid": "67dcf24d-fb3e-4c7e-aa77-da7bc51d6b27",
        "trusted": true,
        "execution": {
          "iopub.status.busy": "2025-05-24T14:05:47.686553Z",
          "iopub.execute_input": "2025-05-24T14:05:47.686888Z",
          "iopub.status.idle": "2025-05-24T14:05:47.692383Z",
          "shell.execute_reply.started": "2025-05-24T14:05:47.686824Z",
          "shell.execute_reply": "2025-05-24T14:05:47.691615Z"
        },
        "id": "kjkWzAkUpZLs"
      },
      "outputs": [],
      "execution_count": null
    },
    {
      "cell_type": "markdown",
      "source": [
        "#### Let's plot yearwise debt of some countries"
      ],
      "metadata": {
        "_uuid": "04cc5983b997410bca202ef2a6667ab1045a6867",
        "_cell_guid": "0fc9d9cf-f3b7-40e5-b910-f3a963b116df",
        "id": "upVnc67tpZLs"
      }
    },
    {
      "cell_type": "code",
      "source": [
        "## Plotting debt vs year graph\n",
        "def plot_debt(country_code, country_name = None):\n",
        "    country_yearwise_debt = yearwise_debt[yearwise_debt['country_code'] == country_code]\n",
        "    plt.plot_date(country_yearwise_debt['year'], country_yearwise_debt['debt'])\n",
        "    plt.xlabel('Years')\n",
        "    plt.ylabel('Debt')\n",
        "    if country_name is None:\n",
        "        country_name = country_code\n",
        "    plt.title(country_name + ' yearly debt analysis')"
      ],
      "metadata": {
        "_uuid": "043f58bcc343f16a7e99843e767eaeb85c97035d",
        "_cell_guid": "bd29ce38-6f38-40fd-8df0-09be2a2ec221",
        "trusted": true,
        "execution": {
          "iopub.status.busy": "2025-05-24T14:05:47.69359Z",
          "iopub.execute_input": "2025-05-24T14:05:47.693877Z",
          "iopub.status.idle": "2025-05-24T14:05:47.704521Z",
          "shell.execute_reply.started": "2025-05-24T14:05:47.693799Z",
          "shell.execute_reply": "2025-05-24T14:05:47.70381Z"
        },
        "id": "QFgd8KP3pZLs"
      },
      "outputs": [],
      "execution_count": null
    },
    {
      "cell_type": "code",
      "source": [
        "plot_debt('AFG')\n",
        "plt.show()"
      ],
      "metadata": {
        "_uuid": "7fab1c71bfec9a4a1461f8929a75ac94373e92b5",
        "_cell_guid": "de28f60c-c23d-4257-84b9-c4d70da88279",
        "trusted": true,
        "execution": {
          "iopub.status.busy": "2025-05-24T14:05:47.705697Z",
          "iopub.execute_input": "2025-05-24T14:05:47.705931Z",
          "iopub.status.idle": "2025-05-24T14:05:47.85429Z",
          "shell.execute_reply.started": "2025-05-24T14:05:47.705892Z",
          "shell.execute_reply": "2025-05-24T14:05:47.853544Z"
        },
        "id": "nfD4utiUpZLs",
        "outputId": "8a99f595-d340-471e-a18c-b5e88e46052f"
      },
      "outputs": [
        {
          "output_type": "display_data",
          "data": {
            "text/plain": "<matplotlib.figure.Figure at 0x79de3d8a6d68>",
            "image/png": "[encoded data removed]"
          },
          "metadata": {}
        }
      ],
      "execution_count": null
    },
    {
      "cell_type": "code",
      "source": [
        "plot_debt('IND', 'India')\n",
        "plt.show()"
      ],
      "metadata": {
        "_uuid": "6e76c4efe60e59ee97baa83330a2d3b48b92ede9",
        "_cell_guid": "7ae519d0-b8c2-4fc0-9ad3-6a5fe72b9edf",
        "trusted": true,
        "execution": {
          "iopub.status.busy": "2025-05-24T14:05:47.855806Z",
          "iopub.execute_input": "2025-05-24T14:05:47.856167Z",
          "iopub.status.idle": "2025-05-24T14:05:47.999133Z",
          "shell.execute_reply.started": "2025-05-24T14:05:47.856094Z",
          "shell.execute_reply": "2025-05-24T14:05:47.998379Z"
        },
        "id": "qOwMpbSepZLs",
        "outputId": "0918461b-e218-4fcd-81c3-e6ee0380cd0f"
      },
      "outputs": [
        {
          "output_type": "display_data",
          "data": {
            "text/plain": "<matplotlib.figure.Figure at 0x79de3d844e10>",
            "image/png": "[encoded data removed]"
          },
          "metadata": {}
        }
      ],
      "execution_count": null
    },
    {
      "cell_type": "code",
      "source": [
        "plt.figure(1)\n",
        "plot_debt('LIC', 'Low Income Countries')\n",
        "plt.figure(2)\n",
        "plot_debt('MIC', 'Middle Income Countries')\n",
        "plt.figure(3)\n",
        "plot_debt('LMC', '       Low-Middle Income Countries')\n",
        "plt.figure(4)\n",
        "plot_debt('UMC', '       Upper-Middle Income Countries')\n",
        "plt.show()"
      ],
      "metadata": {
        "_uuid": "14840a90799202ed98820b49c69ee455c1d86232",
        "_cell_guid": "1829ec8d-ef5f-413a-84af-6671bb0e17b5",
        "trusted": true,
        "execution": {
          "iopub.status.busy": "2025-05-24T14:05:48.000378Z",
          "iopub.execute_input": "2025-05-24T14:05:48.000701Z",
          "iopub.status.idle": "2025-05-24T14:05:48.572882Z",
          "shell.execute_reply.started": "2025-05-24T14:05:48.000645Z",
          "shell.execute_reply": "2025-05-24T14:05:48.572023Z"
        },
        "id": "OAx_V6fapZLs",
        "outputId": "4545c17f-1b03-4512-edfb-75ca3c57b9e5"
      },
      "outputs": [
        {
          "output_type": "display_data",
          "data": {
            "text/plain": "<matplotlib.figure.Figure at 0x79de3d84b400>",
            "image/png": "[encoded data removed]"
          },
          "metadata": {}
        },
        {
          "output_type": "display_data",
          "data": {
            "text/plain": "<matplotlib.figure.Figure at 0x79de3d730f60>",
            "image/png": "[encoded data removed]"
          },
          "metadata": {}
        },
        {
          "output_type": "display_data",
          "data": {
            "text/plain": "<matplotlib.figure.Figure at 0x79de3d6f4860>",
            "image/png": "[encoded data removed]"
          },
          "metadata": {}
        },
        {
          "output_type": "display_data",
          "data": {
            "text/plain": "<matplotlib.figure.Figure at 0x79de3d6b76a0>",
            "image/png": "[encoded data removed]"
          },
          "metadata": {}
        }
      ],
      "execution_count": null
    },
    {
      "cell_type": "markdown",
      "source": [
        "*Here are two things I like to point out.*\n",
        "* ** All the  curves are looking more or less same which implies that the trend of lending money is irrespective of income class of the country**\n",
        "* ** Upper Middle class countries have more debt that any other class**"
      ],
      "metadata": {
        "_uuid": "ec5839e942c8350b2b4376092efd93a2cf3cb8c2",
        "_cell_guid": "005706c4-f09e-4040-ad66-3e765ee6109c",
        "id": "xPJKM8e8pZLs"
      }
    },
    {
      "cell_type": "code",
      "source": [
        "plot_debt('LDC')\n",
        "plt.show()"
      ],
      "metadata": {
        "_uuid": "9962aab4a5e1cff4b652929d20fba01f0aba17ef",
        "_cell_guid": "fd2db3aa-1dc8-487b-b637-33922b60c70c",
        "trusted": true,
        "execution": {
          "iopub.status.busy": "2025-05-24T14:05:48.574348Z",
          "iopub.execute_input": "2025-05-24T14:05:48.574908Z",
          "iopub.status.idle": "2025-05-24T14:05:48.812473Z",
          "shell.execute_reply.started": "2025-05-24T14:05:48.574812Z",
          "shell.execute_reply": "2025-05-24T14:05:48.811635Z"
        },
        "id": "eG82LKaipZLs",
        "outputId": "6c773877-879b-42a9-ea8c-00c600359be3"
      },
      "outputs": [
        {
          "output_type": "display_data",
          "data": {
            "text/plain": "<matplotlib.figure.Figure at 0x79de3d8d54e0>",
            "image/png": "[encoded data removed]"
          },
          "metadata": {}
        }
      ],
      "execution_count": null
    },
    {
      "cell_type": "code",
      "source": [
        "countries_details.head()"
      ],
      "metadata": {
        "_uuid": "67beca694d90912490256efd897f8443f88322eb",
        "_cell_guid": "abcbbdae-8b1e-4eac-88b7-137a614f8f51",
        "trusted": true,
        "execution": {
          "iopub.status.busy": "2025-05-24T14:05:48.81392Z",
          "iopub.execute_input": "2025-05-24T14:05:48.814288Z",
          "iopub.status.idle": "2025-05-24T14:05:48.88277Z",
          "shell.execute_reply.started": "2025-05-24T14:05:48.814221Z",
          "shell.execute_reply": "2025-05-24T14:05:48.881879Z"
        },
        "id": "8tD5AfXlpZLs",
        "outputId": "60173e2b-515b-440f-9928-8c2fc2b5a455"
      },
      "outputs": [
        {
          "execution_count": 65,
          "output_type": "execute_result",
          "data": {
            "text/plain": "  country_code             ...              latest_water_withdrawal_data\n0          EAP             ...                                      None\n1          ECA             ...                                      None\n2          IDX             ...                                      None\n3          LAC             ...                                      None\n4          LDC             ...                                      None\n\n[5 rows x 31 columns]",
            "text/html": "<div>\n<style scoped>\n    .dataframe tbody tr th:only-of-type {\n        vertical-align: middle;\n    }\n\n    .dataframe tbody tr th {\n        vertical-align: top;\n    }\n\n    .dataframe thead th {\n        text-align: right;\n    }\n</style>\n<table border=\"1\" class=\"dataframe\">\n  <thead>\n    <tr style=\"text-align: right;\">\n      <th></th>\n      <th>country_code</th>\n      <th>short_name</th>\n      <th>table_name</th>\n      <th>long_name</th>\n      <th>two_alpha_code</th>\n      <th>currency_unit</th>\n      <th>special_notes</th>\n      <th>region</th>\n      <th>income_group</th>\n      <th>wb_2_code</th>\n      <th>national_accounts_base_year</th>\n      <th>national_accounts_reference_year</th>\n      <th>sna_price_valuation</th>\n      <th>lending_category</th>\n      <th>other_groups</th>\n      <th>system_of_national_accounts</th>\n      <th>alternative_conversion_factor</th>\n      <th>ppp_survey_year</th>\n      <th>balance_of_payments_manual_in_use</th>\n      <th>external_debt_reporting_status</th>\n      <th>system_of_trade</th>\n      <th>government_accounting_concept</th>\n      <th>imf_data_dissemination_standard</th>\n      <th>latest_population_census</th>\n      <th>latest_household_survey</th>\n      <th>source_of_most_recent_Income_and_expenditure_data</th>\n      <th>vital_registration_complete</th>\n      <th>latest_agricultural_census</th>\n      <th>latest_industrial_data</th>\n      <th>latest_trade_data</th>\n      <th>latest_water_withdrawal_data</th>\n    </tr>\n  </thead>\n  <tbody>\n    <tr>\n      <th>0</th>\n      <td>EAP</td>\n      <td>East Asia &amp; Pacific (excluding high income)</td>\n      <td>East Asia &amp; Pacific (excluding high income)</td>\n      <td>East Asia &amp; Pacific (excluding high income)</td>\n      <td>4E</td>\n      <td>None</td>\n      <td>East Asia and Pacific regional aggregate (does...</td>\n      <td>None</td>\n      <td>None</td>\n      <td>4E</td>\n      <td>None</td>\n      <td>None</td>\n      <td>None</td>\n      <td>None</td>\n      <td>None</td>\n      <td>None</td>\n      <td>None</td>\n      <td>None</td>\n      <td>None</td>\n      <td>None</td>\n      <td>None</td>\n      <td>None</td>\n      <td>None</td>\n      <td>None</td>\n      <td>None</td>\n      <td>None</td>\n      <td>None</td>\n      <td>None</td>\n      <td>NaN</td>\n      <td>NaN</td>\n      <td>None</td>\n    </tr>\n    <tr>\n      <th>1</th>\n      <td>ECA</td>\n      <td>Europe &amp; Central Asia (excluding high income)</td>\n      <td>Europe &amp; Central Asia (excluding high income)</td>\n      <td>Europe &amp; Central Asia (excluding high income)</td>\n      <td>7E</td>\n      <td>None</td>\n      <td>Europe and Central Asia regional aggregate (do...</td>\n      <td>None</td>\n      <td>None</td>\n      <td>7E</td>\n      <td>None</td>\n      <td>None</td>\n      <td>None</td>\n      <td>None</td>\n      <td>None</td>\n      <td>None</td>\n      <td>None</td>\n      <td>None</td>\n      <td>None</td>\n      <td>None</td>\n      <td>None</td>\n      <td>None</td>\n      <td>None</td>\n      <td>None</td>\n      <td>None</td>\n      <td>None</td>\n      <td>None</td>\n      <td>None</td>\n      <td>NaN</td>\n      <td>NaN</td>\n      <td>None</td>\n    </tr>\n    <tr>\n      <th>2</th>\n      <td>IDX</td>\n      <td>IDA only</td>\n      <td>IDA only</td>\n      <td>IDA only</td>\n      <td>XI</td>\n      <td>None</td>\n      <td>IDA only group aggregate.</td>\n      <td>None</td>\n      <td>None</td>\n      <td>XI</td>\n      <td>None</td>\n      <td>None</td>\n      <td>None</td>\n      <td>None</td>\n      <td>None</td>\n      <td>None</td>\n      <td>None</td>\n      <td>None</td>\n      <td>None</td>\n      <td>None</td>\n      <td>None</td>\n      <td>None</td>\n      <td>None</td>\n      <td>None</td>\n      <td>None</td>\n      <td>None</td>\n      <td>None</td>\n      <td>None</td>\n      <td>NaN</td>\n      <td>NaN</td>\n      <td>None</td>\n    </tr>\n    <tr>\n      <th>3</th>\n      <td>LAC</td>\n      <td>Latin America &amp; Caribbean (excluding high income)</td>\n      <td>Latin America &amp; Caribbean (excluding high income)</td>\n      <td>Latin America &amp; Caribbean (excluding high income)</td>\n      <td>XJ</td>\n      <td>None</td>\n      <td>Latin America and Caribbean regional aggregate...</td>\n      <td>None</td>\n      <td>None</td>\n      <td>XJ</td>\n      <td>None</td>\n      <td>None</td>\n      <td>None</td>\n      <td>None</td>\n      <td>None</td>\n      <td>None</td>\n      <td>None</td>\n      <td>None</td>\n      <td>None</td>\n      <td>None</td>\n      <td>None</td>\n      <td>None</td>\n      <td>None</td>\n      <td>None</td>\n      <td>None</td>\n      <td>None</td>\n      <td>None</td>\n      <td>None</td>\n      <td>NaN</td>\n      <td>NaN</td>\n      <td>None</td>\n    </tr>\n    <tr>\n      <th>4</th>\n      <td>LDC</td>\n      <td>Least developed countries: UN classification</td>\n      <td>Least developed countries: UN classification</td>\n      <td>Least developed countries: UN classification</td>\n      <td>XL</td>\n      <td>None</td>\n      <td>Least developed countries (UN classification) ...</td>\n      <td>None</td>\n      <td>None</td>\n      <td>XL</td>\n      <td>None</td>\n      <td>None</td>\n      <td>None</td>\n      <td>None</td>\n      <td>None</td>\n      <td>None</td>\n      <td>None</td>\n      <td>None</td>\n      <td>None</td>\n      <td>None</td>\n      <td>None</td>\n      <td>None</td>\n      <td>None</td>\n      <td>None</td>\n      <td>None</td>\n      <td>None</td>\n      <td>None</td>\n      <td>None</td>\n      <td>NaN</td>\n      <td>NaN</td>\n      <td>None</td>\n    </tr>\n  </tbody>\n</table>\n</div>"
          },
          "metadata": {}
        }
      ],
      "execution_count": null
    },
    {
      "cell_type": "markdown",
      "source": [
        "Let's check how many countries each region consist"
      ],
      "metadata": {
        "_uuid": "c8f1351356147337d7b029c5e5272532cb61812b",
        "_cell_guid": "19a6fa19-cc3e-4c25-9def-cce9cf3591af",
        "id": "PMm6sH-4pZLt"
      }
    },
    {
      "cell_type": "code",
      "source": [
        "country_region_dynamics = countries_details.groupby(['region']).count().reset_index()\n",
        "country_region_dynamics = country_region_dynamics[['region', 'country_code']]\n",
        "country_region_dynamics.columns = ['region', 'number_of_countries']"
      ],
      "metadata": {
        "_uuid": "c44a20a366992d80318086227a003412df36bcb8",
        "_cell_guid": "3e4155ba-7072-4210-b393-a57005245a73",
        "trusted": true,
        "execution": {
          "iopub.status.busy": "2025-05-24T14:05:48.884246Z",
          "iopub.execute_input": "2025-05-24T14:05:48.884617Z",
          "iopub.status.idle": "2025-05-24T14:05:48.897917Z",
          "shell.execute_reply.started": "2025-05-24T14:05:48.884557Z",
          "shell.execute_reply": "2025-05-24T14:05:48.896996Z"
        },
        "id": "JEfdJoiepZLt"
      },
      "outputs": [],
      "execution_count": null
    },
    {
      "cell_type": "code",
      "source": [
        "a4_dims = (15.7, 6.27)\n",
        "fig, ax = plt.subplots(figsize=a4_dims)\n",
        "sns.barplot('region', 'number_of_countries', data=country_region_dynamics)\n",
        "plt.show()"
      ],
      "metadata": {
        "_uuid": "d4b6ad59034b790c286f70d674db8e2e1dc4e6cd",
        "_cell_guid": "463045f0-68c0-4db2-b0ef-209e85a38c46",
        "trusted": true,
        "execution": {
          "iopub.status.busy": "2025-05-24T14:05:48.899189Z",
          "iopub.execute_input": "2025-05-24T14:05:48.899562Z",
          "iopub.status.idle": "2025-05-24T14:05:49.087416Z",
          "shell.execute_reply.started": "2025-05-24T14:05:48.899499Z",
          "shell.execute_reply": "2025-05-24T14:05:49.086527Z"
        },
        "id": "-Q18CYB3pZLt",
        "outputId": "5598cb69-d758-49a5-cbfc-dcb2378bfe93"
      },
      "outputs": [
        {
          "output_type": "display_data",
          "data": {
            "text/plain": "<matplotlib.figure.Figure at 0x79de3d5e9198>",
            "image/png": "[encoded data removed]"
          },
          "metadata": {}
        }
      ],
      "execution_count": null
    },
    {
      "cell_type": "markdown",
      "source": [
        "** Sub saharan Africa region consists highest number  of countries**\n",
        "\n",
        "Let's now find out dynamics between income_group and countries"
      ],
      "metadata": {
        "_uuid": "e5885de0aff4dbfeb7025af2f6efadcab92d8898",
        "_cell_guid": "3c0a447f-1e1d-47e4-874b-457ee631e0e2",
        "id": "b_5uh5mJpZLt"
      }
    },
    {
      "cell_type": "code",
      "source": [
        "inc_countries = \"\"\"\n",
        "SELECT distinct country_name,cs.income_group  from `bigquery-public-data.world_bank_intl_debt.international_debt` as id join `bigquery-public-data.world_bank_intl_debt.country_summary` as cs on id.country_code = cs.country_code where cs.income_group != ''\n",
        "\"\"\""
      ],
      "metadata": {
        "_uuid": "49826b624036d01dc49bcb3a475357ca1eb98257",
        "_cell_guid": "9bc3c4b5-0f56-4c1a-ac93-8e80f60fa884",
        "trusted": true,
        "execution": {
          "iopub.status.busy": "2025-05-24T14:05:49.088615Z",
          "iopub.execute_input": "2025-05-24T14:05:49.088896Z",
          "iopub.status.idle": "2025-05-24T14:05:49.092905Z",
          "shell.execute_reply.started": "2025-05-24T14:05:49.088848Z",
          "shell.execute_reply": "2025-05-24T14:05:49.09203Z"
        },
        "id": "qNPo2rYupZLt"
      },
      "outputs": [],
      "execution_count": null
    },
    {
      "cell_type": "code",
      "source": [
        "income_county_dynamic = wbid.query_to_pandas_safe(inc_countries)"
      ],
      "metadata": {
        "_uuid": "660fbdf9aaf6eb0c740df7498e0eb5af8e4f95fb",
        "_cell_guid": "6a9547ba-5acf-4df9-9bab-05bf5139c3f6",
        "trusted": true,
        "execution": {
          "iopub.status.busy": "2025-05-24T14:05:49.094328Z",
          "iopub.execute_input": "2025-05-24T14:05:49.094633Z",
          "iopub.status.idle": "2025-05-24T14:05:50.801476Z",
          "shell.execute_reply.started": "2025-05-24T14:05:49.094579Z",
          "shell.execute_reply": "2025-05-24T14:05:50.80064Z"
        },
        "id": "09ObgdqWpZLu"
      },
      "outputs": [],
      "execution_count": null
    },
    {
      "cell_type": "code",
      "source": [
        "income_county_dynamic.head()"
      ],
      "metadata": {
        "_uuid": "8ac4cd31c0afd8c3e37df0e4ff887051bbbe5dd7",
        "_cell_guid": "7403473f-fe1a-497c-9402-20633b81dfb0",
        "trusted": true,
        "execution": {
          "iopub.status.busy": "2025-05-24T14:05:50.802733Z",
          "iopub.execute_input": "2025-05-24T14:05:50.803026Z",
          "iopub.status.idle": "2025-05-24T14:05:50.816539Z",
          "shell.execute_reply.started": "2025-05-24T14:05:50.80297Z",
          "shell.execute_reply": "2025-05-24T14:05:50.815633Z"
        },
        "id": "BPvYIYuKpZLu",
        "outputId": "20cf9962-dcf7-4442-a3fb-81953d927e21"
      },
      "outputs": [
        {
          "execution_count": 70,
          "output_type": "execute_result",
          "data": {
            "text/plain": "  country_name         income_group\n0  Afghanistan           Low income\n1       Angola  Lower middle income\n2      Albania  Upper middle income\n3    Argentina  Upper middle income\n4      Armenia  Upper middle income",
            "text/html": "<div>\n<style scoped>\n    .dataframe tbody tr th:only-of-type {\n        vertical-align: middle;\n    }\n\n    .dataframe tbody tr th {\n        vertical-align: top;\n    }\n\n    .dataframe thead th {\n        text-align: right;\n    }\n</style>\n<table border=\"1\" class=\"dataframe\">\n  <thead>\n    <tr style=\"text-align: right;\">\n      <th></th>\n      <th>country_name</th>\n      <th>income_group</th>\n    </tr>\n  </thead>\n  <tbody>\n    <tr>\n      <th>0</th>\n      <td>Afghanistan</td>\n      <td>Low income</td>\n    </tr>\n    <tr>\n      <th>1</th>\n      <td>Angola</td>\n      <td>Lower middle income</td>\n    </tr>\n    <tr>\n      <th>2</th>\n      <td>Albania</td>\n      <td>Upper middle income</td>\n    </tr>\n    <tr>\n      <th>3</th>\n      <td>Argentina</td>\n      <td>Upper middle income</td>\n    </tr>\n    <tr>\n      <th>4</th>\n      <td>Armenia</td>\n      <td>Upper middle income</td>\n    </tr>\n  </tbody>\n</table>\n</div>"
          },
          "metadata": {}
        }
      ],
      "execution_count": null
    },
    {
      "cell_type": "code",
      "source": [
        "country_per_income_grp = income_county_dynamic.groupby(['income_group']).count().reset_index()\n",
        "country_per_income_grp.columns = ['income_group', 'total_number_of_countries']\n",
        "a4_dims = (8, 6)\n",
        "fig, ax = plt.subplots(figsize=a4_dims)\n",
        "plt.pie(labels=country_per_income_grp['income_group'], x=country_per_income_grp['total_number_of_countries'], autopct='%1.0f%%')\n",
        "plt.show()"
      ],
      "metadata": {
        "_uuid": "23b839092ef7db02123c95f00c1c2e396e8a7814",
        "_cell_guid": "646f9e9b-bd77-4dc1-987f-d68b842b93ae",
        "trusted": true,
        "execution": {
          "iopub.status.busy": "2025-05-24T14:05:50.817985Z",
          "iopub.execute_input": "2025-05-24T14:05:50.818356Z",
          "iopub.status.idle": "2025-05-24T14:05:50.928464Z",
          "shell.execute_reply.started": "2025-05-24T14:05:50.818289Z",
          "shell.execute_reply": "2025-05-24T14:05:50.927608Z"
        },
        "id": "sK_gMvLapZLu",
        "outputId": "9be002a1-a304-4703-d44e-a5008a0eaf97"
      },
      "outputs": [
        {
          "output_type": "display_data",
          "data": {
            "text/plain": "<matplotlib.figure.Figure at 0x79de3d6b7588>",
            "image/png": "[encoded data removed]"
          },
          "metadata": {}
        }
      ],
      "execution_count": null
    },
    {
      "cell_type": "markdown",
      "source": [
        "Most of the countries are in Lower Middle income group. But the strange thing is  number of Upper Middle income countries are greater than number of  Low income data"
      ],
      "metadata": {
        "_uuid": "90f342a5cc9cae2647586d44c21eb8dd9136fef6",
        "_cell_guid": "675f5ea7-c6fb-476a-9f02-83189a7222c0",
        "id": "Q7OknnSxpZLu"
      }
    },
    {
      "cell_type": "code",
      "source": [
        "yearwise_debt[yearwise_debt['debt'] == yearwise_debt['debt'].max()]"
      ],
      "metadata": {
        "_uuid": "80e1db75ddf8251bb68cfce5ce2eb48f4fafb6bf",
        "_cell_guid": "99acae2b-817c-4d20-81cd-391d0eba4d19",
        "trusted": true,
        "execution": {
          "iopub.status.busy": "2025-05-24T14:05:50.929783Z",
          "iopub.execute_input": "2025-05-24T14:05:50.930072Z",
          "iopub.status.idle": "2025-05-24T14:05:50.949052Z",
          "shell.execute_reply.started": "2025-05-24T14:05:50.930015Z",
          "shell.execute_reply": "2025-05-24T14:05:50.948251Z"
        },
        "id": "73bz1wO-pZLu",
        "outputId": "2a9bc3d7-a01a-4e7d-cfce-84947ba56528"
      },
      "outputs": [
        {
          "execution_count": 72,
          "output_type": "execute_result",
          "data": {
            "text/plain": "            country_name country_code year          debt\n120  Low & middle income          LMY  NaT  6.150682e+13",
            "text/html": "<div>\n<style scoped>\n    .dataframe tbody tr th:only-of-type {\n        vertical-align: middle;\n    }\n\n    .dataframe tbody tr th {\n        vertical-align: top;\n    }\n\n    .dataframe thead th {\n        text-align: right;\n    }\n</style>\n<table border=\"1\" class=\"dataframe\">\n  <thead>\n    <tr style=\"text-align: right;\">\n      <th></th>\n      <th>country_name</th>\n      <th>country_code</th>\n      <th>year</th>\n      <th>debt</th>\n    </tr>\n  </thead>\n  <tbody>\n    <tr>\n      <th>120</th>\n      <td>Low &amp; middle income</td>\n      <td>LMY</td>\n      <td>NaT</td>\n      <td>6.150682e+13</td>\n    </tr>\n  </tbody>\n</table>\n</div>"
          },
          "metadata": {}
        }
      ],
      "execution_count": null
    },
    {
      "cell_type": "markdown",
      "source": [
        "**Low and middle income countries took the greatest debt of all time in year 2014**"
      ],
      "metadata": {
        "_uuid": "35ef93a0c96aa01480bc36c12c014247add8449a",
        "_cell_guid": "5a75e9e1-7718-4a23-b6af-5f040cf68b47",
        "id": "l0aCpDvopZLv"
      }
    },
    {
      "cell_type": "markdown",
      "source": [
        "### Finding all the Low and Middle income  countries"
      ],
      "metadata": {
        "_uuid": "cc3097a8bb3330cfd4a3994cf309f9be0fa33dea",
        "_cell_guid": "a4835be7-8ef2-425c-8714-4d7b330b45ea",
        "id": "1N97-tSMpZLv"
      }
    },
    {
      "cell_type": "code",
      "source": [
        "lmy_countries = \"\"\"\n",
        "SELECT distinct(country_name) from `bigquery-public-data.world_bank_intl_debt.international_debt` as id join `bigquery-public-data.world_bank_intl_debt.country_summary` as cs on id.country_code = cs.country_code where  cs.income_group = 'Lower middle income'\n",
        "\"\"\""
      ],
      "metadata": {
        "_uuid": "baa4710ba31240a6997b1a28ff15414a5abe61e5",
        "_cell_guid": "2557adc6-f973-4a85-83e2-1f164b2dd4ce",
        "trusted": true,
        "execution": {
          "iopub.status.busy": "2025-05-24T14:05:50.950382Z",
          "iopub.execute_input": "2025-05-24T14:05:50.950722Z",
          "iopub.status.idle": "2025-05-24T14:05:50.965605Z",
          "shell.execute_reply.started": "2025-05-24T14:05:50.950667Z",
          "shell.execute_reply": "2025-05-24T14:05:50.964637Z"
        },
        "id": "wnJ6rW8epZLv"
      },
      "outputs": [],
      "execution_count": null
    },
    {
      "cell_type": "code",
      "source": [
        "## List of lower middle class countries\n",
        "response1 = wbid.query_to_pandas_safe(lmy_countries)\n",
        "response1"
      ],
      "metadata": {
        "_uuid": "f397ecb9178c25d5aff0d712463e2439b9610c19",
        "_cell_guid": "8939a7c4-2325-43c6-a556-11a583542899",
        "trusted": true,
        "execution": {
          "iopub.status.busy": "2025-05-24T14:05:50.966924Z",
          "iopub.execute_input": "2025-05-24T14:05:50.967266Z",
          "iopub.status.idle": "2025-05-24T14:05:52.692889Z",
          "shell.execute_reply.started": "2025-05-24T14:05:50.967207Z",
          "shell.execute_reply": "2025-05-24T14:05:52.69205Z"
        },
        "id": "HyjtUFRnpZLv",
        "outputId": "69a2f43a-acc0-48d4-f4d2-6821bb2c2912"
      },
      "outputs": [
        {
          "execution_count": 74,
          "output_type": "execute_result",
          "data": {
            "text/plain": "             country_name\n0                   Ghana\n1                   India\n2                   Kenya\n3                   Sudan\n4                  Angola\n5                  Bhutan\n6                  Zambia\n7                 Bolivia\n8                 Comoros\n9                 Lao PDR\n10                Lesotho\n11                Moldova\n12                Morocco\n13                Myanmar\n14                Nigeria\n15                Senegal\n16                Tunisia\n17                Ukraine\n18                Vanuatu\n19                Vietnam\n20               Cambodia\n21               Cameroon\n22               Djibouti\n23               Eswatini\n24               Honduras\n25               Mongolia\n26               Pakistan\n27               Zimbabwe\n28              Indonesia\n29              Nicaragua\n30             Bangladesh\n31             Cabo Verde\n32             Mauritania\n33             Uzbekistan\n34            Congo, Rep.\n35            El Salvador\n36            Philippines\n37            Timor-Leste\n38          Cote d'Ivoire\n39        Kyrgyz Republic\n40        Solomon Islands\n41       Egypt, Arab Rep.\n42       Papua New Guinea\n43  Sao Tome and Principe",
            "text/html": "<div>\n<style scoped>\n    .dataframe tbody tr th:only-of-type {\n        vertical-align: middle;\n    }\n\n    .dataframe tbody tr th {\n        vertical-align: top;\n    }\n\n    .dataframe thead th {\n        text-align: right;\n    }\n</style>\n<table border=\"1\" class=\"dataframe\">\n  <thead>\n    <tr style=\"text-align: right;\">\n      <th></th>\n      <th>country_name</th>\n    </tr>\n  </thead>\n  <tbody>\n    <tr>\n      <th>0</th>\n      <td>Ghana</td>\n    </tr>\n    <tr>\n      <th>1</th>\n      <td>India</td>\n    </tr>\n    <tr>\n      <th>2</th>\n      <td>Kenya</td>\n    </tr>\n    <tr>\n      <th>3</th>\n      <td>Sudan</td>\n    </tr>\n    <tr>\n      <th>4</th>\n      <td>Angola</td>\n    </tr>\n    <tr>\n      <th>5</th>\n      <td>Bhutan</td>\n    </tr>\n    <tr>\n      <th>6</th>\n      <td>Zambia</td>\n    </tr>\n    <tr>\n      <th>7</th>\n      <td>Bolivia</td>\n    </tr>\n    <tr>\n      <th>8</th>\n      <td>Comoros</td>\n    </tr>\n    <tr>\n      <th>9</th>\n      <td>Lao PDR</td>\n    </tr>\n    <tr>\n      <th>10</th>\n      <td>Lesotho</td>\n    </tr>\n    <tr>\n      <th>11</th>\n      <td>Moldova</td>\n    </tr>\n    <tr>\n      <th>12</th>\n      <td>Morocco</td>\n    </tr>\n    <tr>\n      <th>13</th>\n      <td>Myanmar</td>\n    </tr>\n    <tr>\n      <th>14</th>\n      <td>Nigeria</td>\n    </tr>\n    <tr>\n      <th>15</th>\n      <td>Senegal</td>\n    </tr>\n    <tr>\n      <th>16</th>\n      <td>Tunisia</td>\n    </tr>\n    <tr>\n      <th>17</th>\n      <td>Ukraine</td>\n    </tr>\n    <tr>\n      <th>18</th>\n      <td>Vanuatu</td>\n    </tr>\n    <tr>\n      <th>19</th>\n      <td>Vietnam</td>\n    </tr>\n    <tr>\n      <th>20</th>\n      <td>Cambodia</td>\n    </tr>\n    <tr>\n      <th>21</th>\n      <td>Cameroon</td>\n    </tr>\n    <tr>\n      <th>22</th>\n      <td>Djibouti</td>\n    </tr>\n    <tr>\n      <th>23</th>\n      <td>Eswatini</td>\n    </tr>\n    <tr>\n      <th>24</th>\n      <td>Honduras</td>\n    </tr>\n    <tr>\n      <th>25</th>\n      <td>Mongolia</td>\n    </tr>\n    <tr>\n      <th>26</th>\n      <td>Pakistan</td>\n    </tr>\n    <tr>\n      <th>27</th>\n      <td>Zimbabwe</td>\n    </tr>\n    <tr>\n      <th>28</th>\n      <td>Indonesia</td>\n    </tr>\n    <tr>\n      <th>29</th>\n      <td>Nicaragua</td>\n    </tr>\n    <tr>\n      <th>30</th>\n      <td>Bangladesh</td>\n    </tr>\n    <tr>\n      <th>31</th>\n      <td>Cabo Verde</td>\n    </tr>\n    <tr>\n      <th>32</th>\n      <td>Mauritania</td>\n    </tr>\n    <tr>\n      <th>33</th>\n      <td>Uzbekistan</td>\n    </tr>\n    <tr>\n      <th>34</th>\n      <td>Congo, Rep.</td>\n    </tr>\n    <tr>\n      <th>35</th>\n      <td>El Salvador</td>\n    </tr>\n    <tr>\n      <th>36</th>\n      <td>Philippines</td>\n    </tr>\n    <tr>\n      <th>37</th>\n      <td>Timor-Leste</td>\n    </tr>\n    <tr>\n      <th>38</th>\n      <td>Cote d'Ivoire</td>\n    </tr>\n    <tr>\n      <th>39</th>\n      <td>Kyrgyz Republic</td>\n    </tr>\n    <tr>\n      <th>40</th>\n      <td>Solomon Islands</td>\n    </tr>\n    <tr>\n      <th>41</th>\n      <td>Egypt, Arab Rep.</td>\n    </tr>\n    <tr>\n      <th>42</th>\n      <td>Papua New Guinea</td>\n    </tr>\n    <tr>\n      <th>43</th>\n      <td>Sao Tome and Principe</td>\n    </tr>\n  </tbody>\n</table>\n</div>"
          },
          "metadata": {}
        }
      ],
      "execution_count": null
    },
    {
      "cell_type": "markdown",
      "source": [
        "### Let's Analyse regions"
      ],
      "metadata": {
        "_uuid": "ef76dcc697a40aea3c591e2ab5c267670e5a802e",
        "_cell_guid": "c1ecb48f-6d06-4c2c-8927-ba06cb7d4bfe",
        "id": "ARd7L3L9pZLv"
      }
    },
    {
      "cell_type": "code",
      "source": [
        "no_income_group = wbid.query_to_pandas_safe(\"\"\"SELECT country_code, short_name from `bigquery-public-data.world_bank_intl_debt.country_summary` where income_group = ''\"\"\")\n",
        "no_income_group.head()"
      ],
      "metadata": {
        "_uuid": "e869fd3a19d1b36af621d2c65fc5ad9b8740173d",
        "_cell_guid": "e79d6297-2762-4c33-8b30-d6598e15c03e",
        "trusted": true,
        "execution": {
          "iopub.status.busy": "2025-05-24T14:05:52.694064Z",
          "iopub.execute_input": "2025-05-24T14:05:52.694323Z",
          "iopub.status.idle": "2025-05-24T14:05:54.332764Z",
          "shell.execute_reply.started": "2025-05-24T14:05:52.694288Z",
          "shell.execute_reply": "2025-05-24T14:05:54.331919Z"
        },
        "id": "gf1hFigppZLv",
        "outputId": "8aeab75f-4dd9-4d3c-f571-7ce0b3c141fc"
      },
      "outputs": [
        {
          "execution_count": 75,
          "output_type": "execute_result",
          "data": {
            "text/plain": "Empty DataFrame\nColumns: [country_code, short_name]\nIndex: []",
            "text/html": "<div>\n<style scoped>\n    .dataframe tbody tr th:only-of-type {\n        vertical-align: middle;\n    }\n\n    .dataframe tbody tr th {\n        vertical-align: top;\n    }\n\n    .dataframe thead th {\n        text-align: right;\n    }\n</style>\n<table border=\"1\" class=\"dataframe\">\n  <thead>\n    <tr style=\"text-align: right;\">\n      <th></th>\n      <th>country_code</th>\n      <th>short_name</th>\n    </tr>\n  </thead>\n  <tbody>\n  </tbody>\n</table>\n</div>"
          },
          "metadata": {}
        }
      ],
      "execution_count": null
    },
    {
      "cell_type": "code",
      "source": [
        "yearwise_debt.head()"
      ],
      "metadata": {
        "_uuid": "56be31ca9dd38683ccd332aaaf8b964f78f61749",
        "_cell_guid": "1e7a4fbd-8399-4a57-9793-5524c2bad304",
        "trusted": true,
        "execution": {
          "iopub.status.busy": "2025-05-24T14:05:54.334044Z",
          "iopub.execute_input": "2025-05-24T14:05:54.334542Z",
          "iopub.status.idle": "2025-05-24T14:05:54.352527Z",
          "shell.execute_reply.started": "2025-05-24T14:05:54.334426Z",
          "shell.execute_reply": "2025-05-24T14:05:54.351471Z"
        },
        "id": "twrD25mWpZLw",
        "outputId": "bc309f3d-45e1-488c-b574-84231b67e73a"
      },
      "outputs": [
        {
          "execution_count": 76,
          "output_type": "execute_result",
          "data": {
            "text/plain": "  country_name country_code year          debt\n0         Chad          TCD  NaT  2.468234e+10\n1         Fiji          FJI  NaT  1.362215e+10\n2         Mali          MLI  NaT  7.901860e+10\n3         Peru          PER  NaT  7.200822e+11\n4         Togo          TGO  NaT  3.035996e+10",
            "text/html": "<div>\n<style scoped>\n    .dataframe tbody tr th:only-of-type {\n        vertical-align: middle;\n    }\n\n    .dataframe tbody tr th {\n        vertical-align: top;\n    }\n\n    .dataframe thead th {\n        text-align: right;\n    }\n</style>\n<table border=\"1\" class=\"dataframe\">\n  <thead>\n    <tr style=\"text-align: right;\">\n      <th></th>\n      <th>country_name</th>\n      <th>country_code</th>\n      <th>year</th>\n      <th>debt</th>\n    </tr>\n  </thead>\n  <tbody>\n    <tr>\n      <th>0</th>\n      <td>Chad</td>\n      <td>TCD</td>\n      <td>NaT</td>\n      <td>2.468234e+10</td>\n    </tr>\n    <tr>\n      <th>1</th>\n      <td>Fiji</td>\n      <td>FJI</td>\n      <td>NaT</td>\n      <td>1.362215e+10</td>\n    </tr>\n    <tr>\n      <th>2</th>\n      <td>Mali</td>\n      <td>MLI</td>\n      <td>NaT</td>\n      <td>7.901860e+10</td>\n    </tr>\n    <tr>\n      <th>3</th>\n      <td>Peru</td>\n      <td>PER</td>\n      <td>NaT</td>\n      <td>7.200822e+11</td>\n    </tr>\n    <tr>\n      <th>4</th>\n      <td>Togo</td>\n      <td>TGO</td>\n      <td>NaT</td>\n      <td>3.035996e+10</td>\n    </tr>\n  </tbody>\n</table>\n</div>"
          },
          "metadata": {}
        }
      ],
      "execution_count": null
    },
    {
      "cell_type": "code",
      "source": [
        "## region wise debt\n",
        "debt_region_wise = yearwise_debt.merge(no_income_group, how = 'inner', on='country_code')"
      ],
      "metadata": {
        "_uuid": "5246f88cd34ce383d2166474c2318ce87f85fa29",
        "_cell_guid": "c76a481b-7404-41ed-b6b5-c0de8b725f97",
        "trusted": true,
        "execution": {
          "iopub.status.busy": "2025-05-24T14:05:54.354055Z",
          "iopub.execute_input": "2025-05-24T14:05:54.354422Z",
          "iopub.status.idle": "2025-05-24T14:05:54.36595Z",
          "shell.execute_reply.started": "2025-05-24T14:05:54.354356Z",
          "shell.execute_reply": "2025-05-24T14:05:54.365052Z"
        },
        "id": "cCknxxfbpZLw"
      },
      "outputs": [],
      "execution_count": null
    },
    {
      "cell_type": "code",
      "source": [
        "debt_region_wise.head()"
      ],
      "metadata": {
        "_uuid": "532889686589e980a8c63abc2985d811fa72346e",
        "_cell_guid": "61c79972-01ec-49d3-91fb-569ab941fa1f",
        "trusted": true,
        "execution": {
          "iopub.status.busy": "2025-05-24T14:05:54.367332Z",
          "iopub.execute_input": "2025-05-24T14:05:54.36769Z",
          "iopub.status.idle": "2025-05-24T14:05:54.383335Z",
          "shell.execute_reply.started": "2025-05-24T14:05:54.367623Z",
          "shell.execute_reply": "2025-05-24T14:05:54.382322Z"
        },
        "id": "ceCoZQB7pZLw",
        "outputId": "1513125d-b4c8-465b-caba-be5501653c63"
      },
      "outputs": [
        {
          "execution_count": 78,
          "output_type": "execute_result",
          "data": {
            "text/plain": "Empty DataFrame\nColumns: [country_name, country_code, year, debt, short_name]\nIndex: []",
            "text/html": "<div>\n<style scoped>\n    .dataframe tbody tr th:only-of-type {\n        vertical-align: middle;\n    }\n\n    .dataframe tbody tr th {\n        vertical-align: top;\n    }\n\n    .dataframe thead th {\n        text-align: right;\n    }\n</style>\n<table border=\"1\" class=\"dataframe\">\n  <thead>\n    <tr style=\"text-align: right;\">\n      <th></th>\n      <th>country_name</th>\n      <th>country_code</th>\n      <th>year</th>\n      <th>debt</th>\n      <th>short_name</th>\n    </tr>\n  </thead>\n  <tbody>\n  </tbody>\n</table>\n</div>"
          },
          "metadata": {}
        }
      ],
      "execution_count": null
    },
    {
      "cell_type": "code",
      "source": [
        "debt_region_wise['country_code'].unique()"
      ],
      "metadata": {
        "_uuid": "71335e0a24f225353dabd44e762a31baedd89d23",
        "_cell_guid": "430c6be0-931d-4a4a-8552-6b54929eebbe",
        "trusted": true,
        "execution": {
          "iopub.status.busy": "2025-05-24T14:05:54.384637Z",
          "iopub.execute_input": "2025-05-24T14:05:54.384921Z",
          "iopub.status.idle": "2025-05-24T14:05:54.396218Z",
          "shell.execute_reply.started": "2025-05-24T14:05:54.384868Z",
          "shell.execute_reply": "2025-05-24T14:05:54.395133Z"
        },
        "id": "EnBaPDcQpZLw",
        "outputId": "dbb9db92-9206-466a-ec45-0de714bf6d1f"
      },
      "outputs": [
        {
          "execution_count": 79,
          "output_type": "execute_result",
          "data": {
            "text/plain": "array([], dtype=object)"
          },
          "metadata": {}
        }
      ],
      "execution_count": null
    },
    {
      "cell_type": "code",
      "source": [
        "plot_debt('EAP')\n",
        "plt.show()"
      ],
      "metadata": {
        "_uuid": "59450cecd3522a6e765a2dd6a5c46baf3da7d9ce",
        "_cell_guid": "d67fee33-065e-4571-a0f4-8120f79b2bf9",
        "trusted": true,
        "execution": {
          "iopub.status.busy": "2025-05-24T14:05:54.39754Z",
          "iopub.execute_input": "2025-05-24T14:05:54.39784Z",
          "iopub.status.idle": "2025-05-24T14:05:54.531585Z",
          "shell.execute_reply.started": "2025-05-24T14:05:54.397788Z",
          "shell.execute_reply": "2025-05-24T14:05:54.53063Z"
        },
        "id": "pq_nIIdPpZLw",
        "outputId": "2e6abb29-c2bf-43ea-c502-780c2522c629"
      },
      "outputs": [
        {
          "output_type": "display_data",
          "data": {
            "text/plain": "<matplotlib.figure.Figure at 0x79de3d84a7b8>",
            "image/png": "[encoded data removed]"
          },
          "metadata": {}
        }
      ],
      "execution_count": null
    },
    {
      "cell_type": "code",
      "source": [
        "## Region with the highest and the lowest debt\n",
        "print(debt_region_wise[debt_region_wise['country_code'] == debt_region_wise['country_code'].max()]['country_code'].unique())\n",
        "print(debt_region_wise[debt_region_wise['country_code'] == debt_region_wise['country_code'].min()]['country_code'].unique())"
      ],
      "metadata": {
        "_uuid": "dda2a33dae206d7c35369bf6378071b50a753e37",
        "_cell_guid": "6a48b91f-b99a-4a87-8c6b-7c5ff543e330",
        "trusted": true,
        "execution": {
          "iopub.status.busy": "2025-05-24T14:05:54.533115Z",
          "iopub.execute_input": "2025-05-24T14:05:54.533565Z",
          "iopub.status.idle": "2025-05-24T14:05:54.543515Z",
          "shell.execute_reply.started": "2025-05-24T14:05:54.533464Z",
          "shell.execute_reply": "2025-05-24T14:05:54.542617Z"
        },
        "id": "y_QUrxbapZLx",
        "outputId": "506ab3a2-871a-4b86-8163-acd7598ec5a2"
      },
      "outputs": [
        {
          "name": "stdout",
          "text": "[]\n[]\n",
          "output_type": "stream"
        }
      ],
      "execution_count": null
    },
    {
      "cell_type": "markdown",
      "source": [
        "Upper middle-income countries have the highest debt, while East Asia & Pacific countries have the lowest debt."
      ],
      "metadata": {
        "_uuid": "d3fd354e8b6cb65f91eb7d5a7dd91d06097fc676",
        "_cell_guid": "ab47d690-d17d-4e3b-bc53-2e6bbc7b5ef6",
        "id": "bH1AfBcQpZLx"
      }
    },
    {
      "cell_type": "code",
      "source": [
        "plt.figure(1)\n",
        "plot_debt('EAP', 'East Asia & Pacific')\n",
        "plt.figure(2)\n",
        "plot_debt('UMC', 'Upper Middle countries')\n",
        "plt.show()"
      ],
      "metadata": {
        "_uuid": "4e4c009a6b0641371218333f0dc60851a41db423",
        "_cell_guid": "5af2fc42-df0e-415b-a050-5a616efba56b",
        "trusted": true,
        "execution": {
          "iopub.status.busy": "2025-05-24T14:05:54.544737Z",
          "iopub.execute_input": "2025-05-24T14:05:54.545021Z",
          "iopub.status.idle": "2025-05-24T14:05:54.820788Z",
          "shell.execute_reply.started": "2025-05-24T14:05:54.544958Z",
          "shell.execute_reply": "2025-05-24T14:05:54.819924Z"
        },
        "id": "PER-7zGDpZLx",
        "outputId": "20eaa133-7b59-4381-952c-9b132d3ee0ad"
      },
      "outputs": [
        {
          "output_type": "display_data",
          "data": {
            "text/plain": "<matplotlib.figure.Figure at 0x79de3d933e10>",
            "image/png": "[encoded data removed]"
          },
          "metadata": {}
        },
        {
          "output_type": "display_data",
          "data": {
            "text/plain": "<matplotlib.figure.Figure at 0x79de3d84a0b8>",
            "image/png": "[encoded data removed]"
          },
          "metadata": {}
        }
      ],
      "execution_count": null
    },
    {
      "cell_type": "code",
      "source": [
        "plot_debt('IDX')"
      ],
      "metadata": {
        "_uuid": "9da7b6b60d128cb81c16fc263cd3176f52777e06",
        "_cell_guid": "b4e3e722-60fe-4d6a-830a-3e724dc44361",
        "trusted": true,
        "execution": {
          "iopub.status.busy": "2025-05-24T14:05:54.822057Z",
          "iopub.execute_input": "2025-05-24T14:05:54.822333Z",
          "iopub.status.idle": "2025-05-24T14:05:54.954967Z",
          "shell.execute_reply.started": "2025-05-24T14:05:54.822285Z",
          "shell.execute_reply": "2025-05-24T14:05:54.954181Z"
        },
        "id": "ijKivf8lpZLx",
        "outputId": "d24f9939-af12-4568-e190-43a7184d970c"
      },
      "outputs": [
        {
          "output_type": "display_data",
          "data": {
            "text/plain": "<matplotlib.figure.Figure at 0x79de3daec320>",
            "image/png": "[encoded data removed]"
          },
          "metadata": {}
        }
      ],
      "execution_count": null
    },
    {
      "cell_type": "markdown",
      "source": [
        "## Series Summary"
      ],
      "metadata": {
        "_uuid": "cb922b1ee19e666f3ea2ed409637c060c42b3acd",
        "_cell_guid": "668b9ec1-27b7-4a01-b933-24b4069e1276",
        "id": "8uYTAQP3pZLy"
      }
    },
    {
      "cell_type": "code",
      "source": [
        "bq_assistant.head(\"series_summary\", num_rows=5)"
      ],
      "metadata": {
        "_uuid": "8c225b221a663d3abce0c014543b7398c7d65f54",
        "_cell_guid": "3e0e3a43-77d4-4077-91fb-e63306a2c6eb",
        "trusted": true,
        "execution": {
          "iopub.status.busy": "2025-05-24T14:05:54.956164Z",
          "iopub.execute_input": "2025-05-24T14:05:54.956439Z",
          "iopub.status.idle": "2025-05-24T14:05:55.947005Z",
          "shell.execute_reply.started": "2025-05-24T14:05:54.956387Z",
          "shell.execute_reply": "2025-05-24T14:05:55.946124Z"
        },
        "id": "FYvNRAc-pZLy",
        "outputId": "a356e53b-7aad-4bb9-e276-897c3b15e50b"
      },
      "outputs": [
        {
          "execution_count": 84,
          "output_type": "execute_result",
          "data": {
            "text/plain": "         series_code     ...      license_type\n0     BM.GSR.TOTL.CD     ...              None\n1     BN.CAB.XOKA.CD     ...              None\n2  BX.GRT.EXTA.CD.DT     ...              None\n3  BX.GRT.TECH.CD.DT     ...              None\n4     BX.GSR.TOTL.CD     ...              None\n\n[5 rows x 20 columns]",
            "text/html": "<div>\n<style scoped>\n    .dataframe tbody tr th:only-of-type {\n        vertical-align: middle;\n    }\n\n    .dataframe tbody tr th {\n        vertical-align: top;\n    }\n\n    .dataframe thead th {\n        text-align: right;\n    }\n</style>\n<table border=\"1\" class=\"dataframe\">\n  <thead>\n    <tr style=\"text-align: right;\">\n      <th></th>\n      <th>series_code</th>\n      <th>topic</th>\n      <th>indicator_name</th>\n      <th>short_definition</th>\n      <th>long_definition</th>\n      <th>unit_of_measure</th>\n      <th>periodicity</th>\n      <th>base_period</th>\n      <th>other_notes</th>\n      <th>aggregation_method</th>\n      <th>limitations_and_exceptions</th>\n      <th>notes_from_original_source</th>\n      <th>general_comments</th>\n      <th>source</th>\n      <th>statistical_concept_and_methodology</th>\n      <th>development_relevance</th>\n      <th>related_source_links</th>\n      <th>other_web_links</th>\n      <th>related_indicators</th>\n      <th>license_type</th>\n    </tr>\n  </thead>\n  <tbody>\n    <tr>\n      <th>0</th>\n      <td>BM.GSR.TOTL.CD</td>\n      <td>Economic Policy &amp; Debt: Balance of payments: C...</td>\n      <td>Imports of goods, services and primary income ...</td>\n      <td>Imports of goods, services and primary income ...</td>\n      <td>Imports of goods, services and income is the s...</td>\n      <td>None</td>\n      <td>Annual</td>\n      <td>None</td>\n      <td>None</td>\n      <td>Gap-filled total</td>\n      <td>None</td>\n      <td>None</td>\n      <td>None</td>\n      <td>International Monetary Fund, Balance of Paymen...</td>\n      <td>None</td>\n      <td>None</td>\n      <td>None</td>\n      <td>None</td>\n      <td>None</td>\n      <td>None</td>\n    </tr>\n    <tr>\n      <th>1</th>\n      <td>BN.CAB.XOKA.CD</td>\n      <td>Economic Policy &amp; Debt: Balance of payments: C...</td>\n      <td>Current account balance (current US$)</td>\n      <td>Current account balance shows the difference b...</td>\n      <td>Current account balance shows the difference b...</td>\n      <td>None</td>\n      <td>Annual</td>\n      <td>None</td>\n      <td>None</td>\n      <td>Sum</td>\n      <td>None</td>\n      <td>None</td>\n      <td>None</td>\n      <td>International Monetary Fund, Balance of Paymen...</td>\n      <td>None</td>\n      <td>None</td>\n      <td>None</td>\n      <td>None</td>\n      <td>None</td>\n      <td>None</td>\n    </tr>\n    <tr>\n      <th>2</th>\n      <td>BX.GRT.EXTA.CD.DT</td>\n      <td>Economic Policy &amp; Debt: Balance of payments: R...</td>\n      <td>Grants, excluding technical cooperation (curre...</td>\n      <td>Grants are defined as legally binding commitme...</td>\n      <td>Grants are defined as legally binding commitme...</td>\n      <td>None</td>\n      <td>Annual</td>\n      <td>None</td>\n      <td>None</td>\n      <td>Sum</td>\n      <td>None</td>\n      <td>None</td>\n      <td>None</td>\n      <td>World Bank, International Debt Statistics.</td>\n      <td>None</td>\n      <td>None</td>\n      <td>None</td>\n      <td>None</td>\n      <td>None</td>\n      <td>None</td>\n    </tr>\n    <tr>\n      <th>3</th>\n      <td>BX.GRT.TECH.CD.DT</td>\n      <td>Economic Policy &amp; Debt: Balance of payments: R...</td>\n      <td>Technical cooperation grants (current US$)</td>\n      <td>Technical cooperation grants include free-stan...</td>\n      <td>Technical cooperation grants include free-stan...</td>\n      <td>None</td>\n      <td>Annual</td>\n      <td>None</td>\n      <td>None</td>\n      <td>Sum</td>\n      <td>None</td>\n      <td>None</td>\n      <td>None</td>\n      <td>World Bank, International Debt Statistics.</td>\n      <td>None</td>\n      <td>None</td>\n      <td>None</td>\n      <td>None</td>\n      <td>None</td>\n      <td>None</td>\n    </tr>\n    <tr>\n      <th>4</th>\n      <td>BX.GSR.TOTL.CD</td>\n      <td>Economic Policy &amp; Debt: Balance of payments: C...</td>\n      <td>Exports of goods, services and primary income ...</td>\n      <td>Exports of goods, services and primary income ...</td>\n      <td>Exports of goods, services and income is the s...</td>\n      <td>None</td>\n      <td>Annual</td>\n      <td>None</td>\n      <td>None</td>\n      <td>Gap-filled total</td>\n      <td>None</td>\n      <td>None</td>\n      <td>None</td>\n      <td>International Monetary Fund, Balance of Paymen...</td>\n      <td>None</td>\n      <td>None</td>\n      <td>None</td>\n      <td>None</td>\n      <td>None</td>\n      <td>None</td>\n    </tr>\n  </tbody>\n</table>\n</div>"
          },
          "metadata": {}
        }
      ],
      "execution_count": null
    },
    {
      "cell_type": "code",
      "source": [
        "bq_assistant.table_schema('series_summary')"
      ],
      "metadata": {
        "_uuid": "4091af904bd3459ade8a817b72af093f99c74bf9",
        "_cell_guid": "4a2c4688-8b43-4fc6-911d-a2f627731c9a",
        "trusted": true,
        "execution": {
          "iopub.status.busy": "2025-05-24T14:05:55.948126Z",
          "iopub.execute_input": "2025-05-24T14:05:55.948407Z",
          "iopub.status.idle": "2025-05-24T14:05:55.954118Z",
          "shell.execute_reply.started": "2025-05-24T14:05:55.948358Z",
          "shell.execute_reply": "2025-05-24T14:05:55.953249Z"
        },
        "id": "3iDrV957pZLy",
        "outputId": "20b2536c-2a1d-4836-8830-bbd1dbca34b8"
      },
      "outputs": [
        {
          "execution_count": 85,
          "output_type": "execute_result",
          "data": {
            "text/plain": "[SchemaField('series_code', 'STRING', 'NULLABLE', None, ()),\n SchemaField('topic', 'STRING', 'NULLABLE', None, ()),\n SchemaField('indicator_name', 'STRING', 'NULLABLE', None, ()),\n SchemaField('short_definition', 'STRING', 'NULLABLE', None, ()),\n SchemaField('long_definition', 'STRING', 'NULLABLE', None, ()),\n SchemaField('unit_of_measure', 'STRING', 'NULLABLE', None, ()),\n SchemaField('periodicity', 'STRING', 'NULLABLE', None, ()),\n SchemaField('base_period', 'STRING', 'NULLABLE', None, ()),\n SchemaField('other_notes', 'STRING', 'NULLABLE', None, ()),\n SchemaField('aggregation_method', 'STRING', 'NULLABLE', None, ()),\n SchemaField('limitations_and_exceptions', 'STRING', 'NULLABLE', None, ()),\n SchemaField('notes_from_original_source', 'STRING', 'NULLABLE', None, ()),\n SchemaField('general_comments', 'STRING', 'NULLABLE', None, ()),\n SchemaField('source', 'STRING', 'NULLABLE', None, ()),\n SchemaField('statistical_concept_and_methodology', 'STRING', 'NULLABLE', None, ()),\n SchemaField('development_relevance', 'STRING', 'NULLABLE', None, ()),\n SchemaField('related_source_links', 'STRING', 'NULLABLE', None, ()),\n SchemaField('other_web_links', 'STRING', 'NULLABLE', None, ()),\n SchemaField('related_indicators', 'STRING', 'NULLABLE', None, ()),\n SchemaField('license_type', 'STRING', 'NULLABLE', None, ())]"
          },
          "metadata": {}
        }
      ],
      "execution_count": null
    },
    {
      "cell_type": "code",
      "source": [
        "response1 = wbid.query_to_pandas_safe(\"\"\"SELECT distinct(periodicity) from `bigquery-public-data.world_bank_intl_debt.series_summary` \"\"\")\n",
        "response1"
      ],
      "metadata": {
        "_uuid": "6e7aef114fc3b3d34da9ef6a7f70d58f651aa3e1",
        "_cell_guid": "8d5484be-9975-4499-b413-c319f61f0b6c",
        "trusted": true,
        "execution": {
          "iopub.status.busy": "2025-05-24T14:05:55.955298Z",
          "iopub.execute_input": "2025-05-24T14:05:55.955626Z",
          "iopub.status.idle": "2025-05-24T14:05:57.708528Z",
          "shell.execute_reply.started": "2025-05-24T14:05:55.955571Z",
          "shell.execute_reply": "2025-05-24T14:05:57.707678Z"
        },
        "id": "ottfHpZbpZLy",
        "outputId": "02652f74-826d-4afd-e80d-4ad875b5c828"
      },
      "outputs": [
        {
          "execution_count": 86,
          "output_type": "execute_result",
          "data": {
            "text/plain": "  periodicity\n0      Annual",
            "text/html": "<div>\n<style scoped>\n    .dataframe tbody tr th:only-of-type {\n        vertical-align: middle;\n    }\n\n    .dataframe tbody tr th {\n        vertical-align: top;\n    }\n\n    .dataframe thead th {\n        text-align: right;\n    }\n</style>\n<table border=\"1\" class=\"dataframe\">\n  <thead>\n    <tr style=\"text-align: right;\">\n      <th></th>\n      <th>periodicity</th>\n    </tr>\n  </thead>\n  <tbody>\n    <tr>\n      <th>0</th>\n      <td>Annual</td>\n    </tr>\n  </tbody>\n</table>\n</div>"
          },
          "metadata": {}
        }
      ],
      "execution_count": null
    },
    {
      "cell_type": "markdown",
      "source": [
        "## series_times"
      ],
      "metadata": {
        "_uuid": "03ba0631d3771ef09ec85775eb0bfa07e85ae630",
        "_cell_guid": "67fb37c7-d4c8-4e29-9b6d-929d2fe5ac61",
        "id": "uZIg1K01pZLz"
      }
    },
    {
      "cell_type": "code",
      "source": [
        "bq_assistant.head(\"series_times\", num_rows=5)"
      ],
      "metadata": {
        "_uuid": "f05e603a1a16b6dc4d501b044b198ff523a732ec",
        "_cell_guid": "b66fab03-c277-49ff-9827-a43494b69b55",
        "trusted": true,
        "execution": {
          "iopub.status.busy": "2025-05-24T14:05:57.709808Z",
          "iopub.execute_input": "2025-05-24T14:05:57.710184Z",
          "iopub.status.idle": "2025-05-24T14:05:58.397514Z",
          "shell.execute_reply.started": "2025-05-24T14:05:57.710118Z",
          "shell.execute_reply": "2025-05-24T14:05:58.39665Z"
        },
        "id": "kqn6_gPRpZLz",
        "outputId": "1dcdc904-1157-451d-aefc-f2581d3015dc"
      },
      "outputs": [
        {
          "execution_count": 87,
          "output_type": "execute_result",
          "data": {
            "text/plain": "  ...\n0 ...\n\n[1 rows x 3 columns]",
            "text/html": "<div>\n<style scoped>\n    .dataframe tbody tr th:only-of-type {\n        vertical-align: middle;\n    }\n\n    .dataframe tbody tr th {\n        vertical-align: top;\n    }\n\n    .dataframe thead th {\n        text-align: right;\n    }\n</style>\n<table border=\"1\" class=\"dataframe\">\n  <thead>\n    <tr style=\"text-align: right;\">\n      <th></th>\n      <th>series_code</th>\n      <th>year</th>\n      <th>description</th>\n    </tr>\n  </thead>\n  <tbody>\n    <tr>\n      <th>0</th>\n      <td>DT.DOD.PVLX.CD</td>\n      <td>2018</td>\n      <td>Present value calculations for these countries...</td>\n    </tr>\n  </tbody>\n</table>\n</div>"
          },
          "metadata": {}
        }
      ],
      "execution_count": null
    },
    {
      "cell_type": "code",
      "source": [
        "code_region_mapping = countries_details[['country_code', 'region']]"
      ],
      "metadata": {
        "_uuid": "605773f93d50fd9b5dc0cf9a951ce44df143963d",
        "_cell_guid": "0dfe3c99-87b5-488c-ae3c-456be30215eb",
        "trusted": true,
        "execution": {
          "iopub.status.busy": "2025-05-24T14:09:22.872634Z",
          "iopub.execute_input": "2025-05-24T14:09:22.872965Z",
          "iopub.status.idle": "2025-05-24T14:09:22.878218Z",
          "shell.execute_reply.started": "2025-05-24T14:09:22.872901Z",
          "shell.execute_reply": "2025-05-24T14:09:22.877275Z"
        },
        "id": "a1LGLQcmpZLz"
      },
      "outputs": [],
      "execution_count": null
    },
    {
      "cell_type": "code",
      "source": [
        "total_debt = yearwise_debt.groupby(by=['country_code']).sum().reset_index()"
      ],
      "metadata": {
        "_uuid": "e4657176102892da5cdc78a0af856b1fdfbee93f",
        "_cell_guid": "43431fcb-082d-4e2a-b45d-7fa6b3bbdf71",
        "trusted": true,
        "execution": {
          "iopub.status.busy": "2025-05-24T14:05:58.405957Z",
          "iopub.execute_input": "2025-05-24T14:05:58.406248Z",
          "iopub.status.idle": "2025-05-24T14:05:58.422716Z",
          "shell.execute_reply.started": "2025-05-24T14:05:58.406193Z",
          "shell.execute_reply": "2025-05-24T14:05:58.421784Z"
        },
        "id": "UjiLa6StpZLz"
      },
      "outputs": [],
      "execution_count": null
    },
    {
      "cell_type": "code",
      "source": [
        "total_debt.head()"
      ],
      "metadata": {
        "_uuid": "dce4a53a74044848da7b4c1a84178795c8f6333c",
        "_cell_guid": "f9f69737-c87a-479a-8380-0db08a1b9778",
        "trusted": true,
        "execution": {
          "iopub.status.busy": "2025-05-24T14:05:58.424264Z",
          "iopub.execute_input": "2025-05-24T14:05:58.424649Z",
          "iopub.status.idle": "2025-05-24T14:05:58.445557Z",
          "shell.execute_reply.started": "2025-05-24T14:05:58.424581Z",
          "shell.execute_reply": "2025-05-24T14:05:58.444631Z"
        },
        "id": "r5H1t5NWpZLz",
        "outputId": "db1ede39-482c-41d2-9594-b414fac45132"
      },
      "outputs": [
        {
          "execution_count": 90,
          "output_type": "execute_result",
          "data": {
            "text/plain": "  country_code          debt\n0          AFG  2.953522e+10\n1          AGO  7.595210e+11\n2          ALB  7.967154e+10\n3          ARG  3.573142e+12\n4          ARM  1.238981e+11",
            "text/html": "<div>\n<style scoped>\n    .dataframe tbody tr th:only-of-type {\n        vertical-align: middle;\n    }\n\n    .dataframe tbody tr th {\n        vertical-align: top;\n    }\n\n    .dataframe thead th {\n        text-align: right;\n    }\n</style>\n<table border=\"1\" class=\"dataframe\">\n  <thead>\n    <tr style=\"text-align: right;\">\n      <th></th>\n      <th>country_code</th>\n      <th>debt</th>\n    </tr>\n  </thead>\n  <tbody>\n    <tr>\n      <th>0</th>\n      <td>AFG</td>\n      <td>2.953522e+10</td>\n    </tr>\n    <tr>\n      <th>1</th>\n      <td>AGO</td>\n      <td>7.595210e+11</td>\n    </tr>\n    <tr>\n      <th>2</th>\n      <td>ALB</td>\n      <td>7.967154e+10</td>\n    </tr>\n    <tr>\n      <th>3</th>\n      <td>ARG</td>\n      <td>3.573142e+12</td>\n    </tr>\n    <tr>\n      <th>4</th>\n      <td>ARM</td>\n      <td>1.238981e+11</td>\n    </tr>\n  </tbody>\n</table>\n</div>"
          },
          "metadata": {}
        }
      ],
      "execution_count": null
    },
    {
      "cell_type": "code",
      "source": [
        "total_debt = total_debt.merge(code_region_mapping)"
      ],
      "metadata": {
        "_uuid": "668ae0438e542d5f109d535f732c0d305a710ec2",
        "_cell_guid": "41e9ec4c-0b92-4979-a512-806bc15d9291",
        "trusted": true,
        "execution": {
          "iopub.status.busy": "2025-05-24T14:05:58.446803Z",
          "iopub.execute_input": "2025-05-24T14:05:58.44704Z",
          "iopub.status.idle": "2025-05-24T14:05:58.462404Z",
          "shell.execute_reply.started": "2025-05-24T14:05:58.446999Z",
          "shell.execute_reply": "2025-05-24T14:05:58.461558Z"
        },
        "id": "UHXKYD5TpZLz"
      },
      "outputs": [],
      "execution_count": null
    },
    {
      "cell_type": "code",
      "source": [
        "total_debt['region'].unique()"
      ],
      "metadata": {
        "_uuid": "6c96205816156c529d31e1b6fdbf7bc402a43d12",
        "_cell_guid": "1bc18b53-12f9-49f6-b05d-09cee48acbcf",
        "trusted": true,
        "execution": {
          "iopub.status.busy": "2025-05-24T14:05:58.463641Z",
          "iopub.execute_input": "2025-05-24T14:05:58.463925Z",
          "iopub.status.idle": "2025-05-24T14:05:58.477693Z",
          "shell.execute_reply.started": "2025-05-24T14:05:58.463882Z",
          "shell.execute_reply": "2025-05-24T14:05:58.476823Z"
        },
        "id": "DmQv_K0WpZLz",
        "outputId": "9ec986db-d5a0-48b6-90fc-5fd14ddcfb68"
      },
      "outputs": [
        {
          "execution_count": 92,
          "output_type": "execute_result",
          "data": {
            "text/plain": "array(['South Asia', 'Sub-Saharan Africa', 'Europe & Central Asia',\n       'Latin America & Caribbean', 'East Asia & Pacific',\n       'Middle East & North Africa', None], dtype=object)"
          },
          "metadata": {}
        }
      ],
      "execution_count": null
    },
    {
      "cell_type": "code",
      "source": [
        "a4_dims = (15.7, 6.27)\n",
        "fig, ax = plt.subplots(figsize=a4_dims)\n",
        "sns.violinplot('region', 'debt', data=total_debt)\n",
        "plt.show()"
      ],
      "metadata": {
        "_uuid": "32496beba0f25dedf1dcb02ec45b53f6599a1ce7",
        "_cell_guid": "09c6ea7d-49f1-4573-9a0a-967fd6987157",
        "trusted": true,
        "execution": {
          "iopub.status.busy": "2025-05-24T14:05:58.479223Z",
          "iopub.execute_input": "2025-05-24T14:05:58.479647Z",
          "iopub.status.idle": "2025-05-24T14:05:58.77735Z",
          "shell.execute_reply.started": "2025-05-24T14:05:58.479572Z",
          "shell.execute_reply": "2025-05-24T14:05:58.776329Z"
        },
        "id": "dY1Zi4n_pZLz",
        "outputId": "986d3a02-b545-46c5-a86a-0845bb7967ed"
      },
      "outputs": [
        {
          "output_type": "display_data",
          "data": {
            "text/plain": "<matplotlib.figure.Figure at 0x79de3d76c128>",
            "image/png": "[encoded data removed]"
          },
          "metadata": {}
        }
      ],
      "execution_count": null
    },
    {
      "cell_type": "code",
      "source": [
        "#a4_dims = (15.7, 6.27)\n",
        "#fig, ax = plt.subplots(figsize=a4_dims)\n",
        "sns.factorplot('region', 'debt', data=total_debt, size=12)\n",
        "plt.show()"
      ],
      "metadata": {
        "_uuid": "beb0d3e0180690ba2b87c649e796d2ae12d1889d",
        "_cell_guid": "88280823-e720-427d-94d4-940ebfa3cf16",
        "trusted": true,
        "execution": {
          "iopub.status.busy": "2025-05-24T14:05:58.778642Z",
          "iopub.execute_input": "2025-05-24T14:05:58.7789Z",
          "iopub.status.idle": "2025-05-24T14:05:59.116425Z",
          "shell.execute_reply.started": "2025-05-24T14:05:58.778861Z",
          "shell.execute_reply": "2025-05-24T14:05:59.115386Z"
        },
        "id": "zBq2xqpJpZLz",
        "outputId": "7c2f49d5-51ed-4b79-dde4-3089236bed43"
      },
      "outputs": [
        {
          "output_type": "display_data",
          "data": {
            "text/plain": "<matplotlib.figure.Figure at 0x79de4142c048>",
            "image/png": "[encoded data removed]"
          },
          "metadata": {}
        }
      ],
      "execution_count": null
    },
    {
      "cell_type": "code",
      "source": [
        "a4_dims = (15.7, 6.27)\n",
        "fig, ax = plt.subplots(figsize=a4_dims)\n",
        "sns.swarmplot('region', 'debt', data=total_debt, size=15)\n",
        "plt.show()"
      ],
      "metadata": {
        "_uuid": "1195965942df04045f1e2834e1ff4db03a079c35",
        "_cell_guid": "4c5afcdd-ea51-47e9-9fd9-b2d922a9b7a6",
        "trusted": true,
        "execution": {
          "iopub.status.busy": "2025-05-24T14:05:59.117939Z",
          "iopub.execute_input": "2025-05-24T14:05:59.118291Z",
          "iopub.status.idle": "2025-05-24T14:05:59.351023Z",
          "shell.execute_reply.started": "2025-05-24T14:05:59.118231Z",
          "shell.execute_reply": "2025-05-24T14:05:59.350246Z"
        },
        "id": "VXxmBC2UpZLz",
        "outputId": "8f7acfb7-024c-42a0-bdb4-1dd72d1353bf"
      },
      "outputs": [
        {
          "output_type": "display_data",
          "data": {
            "text/plain": "<matplotlib.figure.Figure at 0x79de3d9c0908>",
            "image/png": "[encoded data removed]"
          },
          "metadata": {}
        }
      ],
      "execution_count": null
    },
    {
      "cell_type": "code",
      "source": [
        "a4_dims = (15.7, 6.27)\n",
        "fig, ax = plt.subplots(figsize=a4_dims)\n",
        "sns.boxplot('region', 'debt', data=total_debt)\n",
        "plt.show()"
      ],
      "metadata": {
        "_uuid": "a850705c0482c89d85dd9bfa5796c7afe4c3af00",
        "_cell_guid": "19af79d0-ab1d-4b40-a40b-41f9a8516248",
        "trusted": true,
        "execution": {
          "iopub.status.busy": "2025-05-24T14:05:59.352463Z",
          "iopub.execute_input": "2025-05-24T14:05:59.352799Z",
          "iopub.status.idle": "2025-05-24T14:05:59.590134Z",
          "shell.execute_reply.started": "2025-05-24T14:05:59.352743Z",
          "shell.execute_reply": "2025-05-24T14:05:59.589204Z"
        },
        "id": "SY2YWy4EpZL0",
        "outputId": "823ffe1d-f171-4f13-eccb-7057b726628a"
      },
      "outputs": [
        {
          "output_type": "display_data",
          "data": {
            "text/plain": "<matplotlib.figure.Figure at 0x79de3d650f98>",
            "image/png": "[encoded data removed]"
          },
          "metadata": {}
        }
      ],
      "execution_count": null
    },
    {
      "cell_type": "code",
      "source": [
        "a4_dims = (15.7, 6.27)\n",
        "fig, ax = plt.subplots(figsize=a4_dims)\n",
        "sns.lvplot('region', 'debt', data=total_debt)\n",
        "plt.show()"
      ],
      "metadata": {
        "_uuid": "a087ebe67337197e2a665b757e41636df279cabe",
        "_cell_guid": "55c12f0f-e65e-4957-a8c6-6500294a588b",
        "trusted": true,
        "execution": {
          "iopub.status.busy": "2025-05-24T14:05:59.591602Z",
          "iopub.execute_input": "2025-05-24T14:05:59.591982Z",
          "iopub.status.idle": "2025-05-24T14:05:59.84205Z",
          "shell.execute_reply.started": "2025-05-24T14:05:59.591914Z",
          "shell.execute_reply": "2025-05-24T14:05:59.841096Z"
        },
        "id": "nAsTmedapZL0",
        "outputId": "c4ba8373-0731-48d9-f54f-88509d8b4002"
      },
      "outputs": [
        {
          "output_type": "display_data",
          "data": {
            "text/plain": "<matplotlib.figure.Figure at 0x79de3d6c03c8>",
            "image/png": "[encoded data removed]"
          },
          "metadata": {}
        }
      ],
      "execution_count": null
    },
    {
      "cell_type": "markdown",
      "source": [
        "- Sub-Saharan Africa: Lowest variance and average debt.\n",
        "- East Asia and Pacific: Highest average debt, with one country having exceptionally high debt.\n",
        "- Europe and Central Asia vs. Latin America and Caribbean: Similar debt patterns."
      ],
      "metadata": {
        "_uuid": "ebf60212e0b24ffd6a12f07892660029e8996b2f",
        "_cell_guid": "0b9ad147-1e54-44b6-aab4-4c91681e20f9",
        "id": "2741CVz7pZL0"
      }
    },
    {
      "cell_type": "markdown",
      "source": [
        "Identify the country in the East Asia and Pacific region with an exceptionally high debt."
      ],
      "metadata": {
        "_uuid": "4704763393c77400c30e18a4515c011e4a4885bd",
        "_cell_guid": "60f46aac-d19d-4e93-b8ec-9bce8cc8553f",
        "id": "jcHv7maBpZL0"
      }
    },
    {
      "cell_type": "code",
      "source": [
        "total_debt[total_debt['debt'] == total_debt['debt'].max()]"
      ],
      "metadata": {
        "_uuid": "75f8a5c579128d80d671b50b9b7b9768e414b448",
        "_cell_guid": "e27c5a89-cc84-46f2-b6da-2c7359df829f",
        "trusted": true,
        "execution": {
          "iopub.status.busy": "2025-05-24T14:05:59.843302Z",
          "iopub.execute_input": "2025-05-24T14:05:59.843597Z",
          "iopub.status.idle": "2025-05-24T14:05:59.859225Z",
          "shell.execute_reply.started": "2025-05-24T14:05:59.84355Z",
          "shell.execute_reply": "2025-05-24T14:05:59.858464Z"
        },
        "id": "KXGKRsVGpZL0",
        "outputId": "c98b8a21-b67c-486e-dde7-b8ac30cffeb4"
      },
      "outputs": [
        {
          "execution_count": 98,
          "output_type": "execute_result",
          "data": {
            "text/plain": "   country_code          debt region\n69          LMY  6.150682e+13   None",
            "text/html": "<div>\n<style scoped>\n    .dataframe tbody tr th:only-of-type {\n        vertical-align: middle;\n    }\n\n    .dataframe tbody tr th {\n        vertical-align: top;\n    }\n\n    .dataframe thead th {\n        text-align: right;\n    }\n</style>\n<table border=\"1\" class=\"dataframe\">\n  <thead>\n    <tr style=\"text-align: right;\">\n      <th></th>\n      <th>country_code</th>\n      <th>debt</th>\n      <th>region</th>\n    </tr>\n  </thead>\n  <tbody>\n    <tr>\n      <th>69</th>\n      <td>LMY</td>\n      <td>6.150682e+13</td>\n      <td>None</td>\n    </tr>\n  </tbody>\n</table>\n</div>"
          },
          "metadata": {}
        }
      ],
      "execution_count": null
    },
    {
      "cell_type": "markdown",
      "source": [
        "China took total debt of about 26 trillion USD\n"
      ],
      "metadata": {
        "_uuid": "7e4531edea0ab7de1d9d7323dc053641064066dd",
        "_cell_guid": "778164ba-6aa5-4479-b2ee-6a234873eeb3",
        "id": "vO5TEergpZL0"
      }
    },
    {
      "cell_type": "code",
      "source": [
        "plot_debt('CHN', 'china')\n",
        "plt.show()"
      ],
      "metadata": {
        "_uuid": "15497de3c01827e9aa2b3029c102646967f1f031",
        "_cell_guid": "a154e0b9-b696-4e7b-af77-84d2f552b32b",
        "trusted": true,
        "execution": {
          "iopub.status.busy": "2025-05-24T14:05:59.860408Z",
          "iopub.execute_input": "2025-05-24T14:05:59.86071Z",
          "iopub.status.idle": "2025-05-24T14:06:00.011841Z",
          "shell.execute_reply.started": "2025-05-24T14:05:59.860657Z",
          "shell.execute_reply": "2025-05-24T14:06:00.010782Z"
        },
        "id": "nJ9DnX70pZL0",
        "outputId": "724509ab-06a8-48ae-dfbf-9c6f25bfcea4"
      },
      "outputs": [
        {
          "output_type": "display_data",
          "data": {
            "text/plain": "<matplotlib.figure.Figure at 0x79de3d9c0160>",
            "image/png": "[encoded data removed]"
          },
          "metadata": {}
        }
      ],
      "execution_count": null
    },
    {
      "cell_type": "code",
      "source": [
        "code_lending_mapping = countries_details[['country_code', 'lending_category']]"
      ],
      "metadata": {
        "_uuid": "6c797c7f8e4b1c6e8fafddb89dce2abb4f424d26",
        "_cell_guid": "0c76ddb8-52b6-45b9-94b4-4cc78adffb93",
        "trusted": true,
        "execution": {
          "iopub.status.busy": "2025-05-24T14:06:00.013106Z",
          "iopub.execute_input": "2025-05-24T14:06:00.013363Z",
          "iopub.status.idle": "2025-05-24T14:06:00.018429Z",
          "shell.execute_reply.started": "2025-05-24T14:06:00.013322Z",
          "shell.execute_reply": "2025-05-24T14:06:00.017387Z"
        },
        "id": "zQ23-HlrpZL0"
      },
      "outputs": [],
      "execution_count": null
    },
    {
      "cell_type": "code",
      "source": [
        "total_debt = total_debt.merge(code_lending_mapping)"
      ],
      "metadata": {
        "_uuid": "3ccc5dd318db719cb6160da3ad1cb7b60b9cacea",
        "_cell_guid": "9bcd85dd-1971-4523-88f9-ec5bb9f7027a",
        "trusted": true,
        "execution": {
          "iopub.status.busy": "2025-05-24T14:06:00.019706Z",
          "iopub.execute_input": "2025-05-24T14:06:00.019955Z",
          "iopub.status.idle": "2025-05-24T14:06:00.036296Z",
          "shell.execute_reply.started": "2025-05-24T14:06:00.019915Z",
          "shell.execute_reply": "2025-05-24T14:06:00.035478Z"
        },
        "id": "lGV952z_pZL0"
      },
      "outputs": [],
      "execution_count": null
    },
    {
      "cell_type": "code",
      "source": [
        "sns.factorplot('lending_category', 'debt', data=total_debt)\n",
        "plt.show()"
      ],
      "metadata": {
        "_uuid": "d8b5edd6e99a7933f9bc0755428865a97bcadf99",
        "_cell_guid": "acf431e2-9acf-446a-b364-04c0b8537837",
        "trusted": true,
        "execution": {
          "iopub.status.busy": "2025-05-24T14:06:00.037748Z",
          "iopub.execute_input": "2025-05-24T14:06:00.038097Z",
          "iopub.status.idle": "2025-05-24T14:06:00.228556Z",
          "shell.execute_reply.started": "2025-05-24T14:06:00.038038Z",
          "shell.execute_reply": "2025-05-24T14:06:00.227639Z"
        },
        "id": "-k7cfCEGpZL0",
        "outputId": "f90b193c-e952-47b7-9212-940678bd498b"
      },
      "outputs": [
        {
          "output_type": "display_data",
          "data": {
            "text/plain": "<matplotlib.figure.Figure at 0x79de3d458f28>",
            "image/png": "[encoded data removed]"
          },
          "metadata": {}
        }
      ],
      "execution_count": null
    },
    {
      "cell_type": "code",
      "source": [
        "a4_dims = (15.7, 6.27)\n",
        "fig, ax = plt.subplots(figsize=a4_dims)\n",
        "sns.lvplot('lending_category', 'debt', data=total_debt)\n",
        "plt.show()"
      ],
      "metadata": {
        "_uuid": "79a95cb39e885cd571f877388cae203e7cdd8c33",
        "_cell_guid": "6fb3dbe0-952a-494a-b10e-6124d9a347f8",
        "trusted": true,
        "execution": {
          "iopub.status.busy": "2025-05-24T14:06:00.229854Z",
          "iopub.execute_input": "2025-05-24T14:06:00.230114Z",
          "iopub.status.idle": "2025-05-24T14:06:00.407799Z",
          "shell.execute_reply.started": "2025-05-24T14:06:00.23007Z",
          "shell.execute_reply": "2025-05-24T14:06:00.406922Z"
        },
        "id": "BiIDD7BPpZL1",
        "outputId": "8d26b503-5a30-4168-a5a2-8c82b39e8186"
      },
      "outputs": [
        {
          "output_type": "display_data",
          "data": {
            "text/plain": "<matplotlib.figure.Figure at 0x79de3d41b2b0>",
            "image/png": "[encoded data removed]"
          },
          "metadata": {}
        }
      ],
      "execution_count": null
    },
    {
      "cell_type": "markdown",
      "source": [
        "*We can draw following conclusions from above plots:-*\n",
        "* ** Very few countries have IDA blend policy for lending**\n",
        "* ** Most of the countries have taken IBRD policy for lending**"
      ],
      "metadata": {
        "_uuid": "0faf79726094f72919de6745f374db1a23d08937",
        "_cell_guid": "81535522-f540-45fd-b459-3757727d3286",
        "id": "d91b1OlUpZL1"
      }
    }
  ]
}